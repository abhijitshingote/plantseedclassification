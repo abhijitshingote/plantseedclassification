{
 "cells": [
  {
   "cell_type": "code",
   "execution_count": 1,
   "metadata": {
    "collapsed": false,
    "deletable": true,
    "editable": true
   },
   "outputs": [
    {
     "name": "stderr",
     "output_type": "stream",
     "text": [
      "Using TensorFlow backend.\n"
     ]
    }
   ],
   "source": [
    "from keras.models import Sequential\n",
    "from keras.layers import Dense,Flatten,Dropout\n",
    "import numpy as np\n",
    "import matplotlib.pyplot as plt\n",
    "%matplotlib inline\n",
    "from sklearn.datasets import load_files\n",
    "from keras.utils import np_utils"
   ]
  },
  {
   "cell_type": "code",
   "execution_count": 2,
   "metadata": {
    "collapsed": false,
    "deletable": true,
    "editable": true
   },
   "outputs": [],
   "source": [
    "bottleneck_train=np.load('bottleneck_train_resnet50')"
   ]
  },
  {
   "cell_type": "code",
   "execution_count": 3,
   "metadata": {
    "collapsed": false,
    "deletable": true,
    "editable": true
   },
   "outputs": [],
   "source": [
    "train_files=load_files('train/')\n",
    "train_targets=np_utils.to_categorical(train_files['target'],len(train_files['target_names']))"
   ]
  },
  {
   "cell_type": "code",
   "execution_count": 4,
   "metadata": {
    "collapsed": false,
    "deletable": true,
    "editable": true
   },
   "outputs": [
    {
     "data": {
      "text/plain": [
       "((4750, 1, 1, 2048), (4750, 12))"
      ]
     },
     "execution_count": 4,
     "metadata": {},
     "output_type": "execute_result"
    }
   ],
   "source": [
    "bottleneck_train.shape,train_targets.shape"
   ]
  },
  {
   "cell_type": "code",
   "execution_count": 14,
   "metadata": {
    "collapsed": false,
    "deletable": true,
    "editable": true
   },
   "outputs": [
    {
     "name": "stdout",
     "output_type": "stream",
     "text": [
      "_________________________________________________________________\n",
      "Layer (type)                 Output Shape              Param #   \n",
      "=================================================================\n",
      "flatten_3 (Flatten)          (None, 2048)              0         \n",
      "_________________________________________________________________\n",
      "dense_5 (Dense)              (None, 12)                24588     \n",
      "=================================================================\n",
      "Total params: 24,588.0\n",
      "Trainable params: 24,588.0\n",
      "Non-trainable params: 0.0\n",
      "_________________________________________________________________\n"
     ]
    }
   ],
   "source": [
    "model=Sequential()\n",
    "model.add(Flatten(input_shape=bottleneck_train.shape[1:]))\n",
    "# model.add(Dense(150,activation='relu'))\n",
    "# model.add(Dropout(0.5))\n",
    "model.add(Dense(12,activation='softmax'))\n",
    "model.summary()"
   ]
  },
  {
   "cell_type": "code",
   "execution_count": 15,
   "metadata": {
    "collapsed": true,
    "deletable": true,
    "editable": true
   },
   "outputs": [],
   "source": [
    "model.compile(loss='categorical_crossentropy',metrics=['accuracy'],optimizer='rmsprop')"
   ]
  },
  {
   "cell_type": "code",
   "execution_count": 16,
   "metadata": {
    "collapsed": false,
    "deletable": true,
    "editable": true
   },
   "outputs": [
    {
     "name": "stdout",
     "output_type": "stream",
     "text": [
      "Train on 3325 samples, validate on 1425 samples\n",
      "Epoch 1/100\n",
      "0s - loss: 2.4521 - acc: 0.1299 - val_loss: 2.4960 - val_acc: 0.1025\n",
      "Epoch 2/100\n",
      "0s - loss: 2.4476 - acc: 0.1344 - val_loss: 2.4789 - val_acc: 0.0954\n",
      "Epoch 3/100\n",
      "0s - loss: 2.4467 - acc: 0.1323 - val_loss: 2.4747 - val_acc: 0.1404\n",
      "Epoch 4/100\n",
      "0s - loss: 2.4481 - acc: 0.1251 - val_loss: 2.4465 - val_acc: 0.1151\n",
      "Epoch 5/100\n",
      "0s - loss: 2.4493 - acc: 0.1341 - val_loss: 2.4435 - val_acc: 0.1165\n",
      "Epoch 6/100\n",
      "0s - loss: 2.4485 - acc: 0.1278 - val_loss: 2.4520 - val_acc: 0.1404\n",
      "Epoch 7/100\n",
      "0s - loss: 2.4481 - acc: 0.1269 - val_loss: 2.4543 - val_acc: 0.1039\n",
      "Epoch 8/100\n",
      "0s - loss: 2.4440 - acc: 0.1197 - val_loss: 2.4454 - val_acc: 0.1404\n",
      "Epoch 9/100\n",
      "0s - loss: 2.4451 - acc: 0.1245 - val_loss: 2.4601 - val_acc: 0.1137\n",
      "Epoch 10/100\n",
      "0s - loss: 2.4460 - acc: 0.1227 - val_loss: 2.4543 - val_acc: 0.1411\n",
      "Epoch 11/100\n",
      "0s - loss: 2.4457 - acc: 0.1281 - val_loss: 2.4350 - val_acc: 0.1375\n",
      "Epoch 12/100\n",
      "0s - loss: 2.4477 - acc: 0.1284 - val_loss: 2.4404 - val_acc: 0.1137\n",
      "Epoch 13/100\n",
      "0s - loss: 2.4427 - acc: 0.1353 - val_loss: 2.4794 - val_acc: 0.1158\n",
      "Epoch 14/100\n",
      "0s - loss: 2.4408 - acc: 0.1242 - val_loss: 2.5074 - val_acc: 0.1011\n",
      "Epoch 15/100\n",
      "0s - loss: 2.4441 - acc: 0.1338 - val_loss: 2.4471 - val_acc: 0.1032\n",
      "Epoch 16/100\n",
      "0s - loss: 2.4474 - acc: 0.1239 - val_loss: 2.4567 - val_acc: 0.1046\n",
      "Epoch 17/100\n",
      "0s - loss: 2.4437 - acc: 0.1296 - val_loss: 2.4833 - val_acc: 0.1123\n",
      "Epoch 18/100\n",
      "0s - loss: 2.4438 - acc: 0.1272 - val_loss: 2.4576 - val_acc: 0.1404\n",
      "Epoch 19/100\n",
      "0s - loss: 2.4433 - acc: 0.1278 - val_loss: 2.4653 - val_acc: 0.1151\n",
      "Epoch 20/100\n",
      "0s - loss: 2.4466 - acc: 0.1314 - val_loss: 2.4535 - val_acc: 0.1137\n",
      "Epoch 21/100\n",
      "0s - loss: 2.4466 - acc: 0.1158 - val_loss: 2.4603 - val_acc: 0.1151\n",
      "Epoch 22/100\n",
      "0s - loss: 2.4426 - acc: 0.1287 - val_loss: 2.4382 - val_acc: 0.1411\n",
      "Epoch 23/100\n",
      "0s - loss: 2.4447 - acc: 0.1254 - val_loss: 2.4495 - val_acc: 0.1432\n",
      "Epoch 24/100\n",
      "0s - loss: 2.4434 - acc: 0.1227 - val_loss: 2.5119 - val_acc: 0.1144\n",
      "Epoch 25/100\n",
      "0s - loss: 2.4411 - acc: 0.1257 - val_loss: 2.4486 - val_acc: 0.1102\n",
      "Epoch 26/100\n",
      "0s - loss: 2.4387 - acc: 0.1365 - val_loss: 2.4689 - val_acc: 0.0870\n",
      "Epoch 27/100\n",
      "0s - loss: 2.4424 - acc: 0.1317 - val_loss: 2.4586 - val_acc: 0.1130\n",
      "Epoch 28/100\n",
      "0s - loss: 2.4424 - acc: 0.1299 - val_loss: 2.4491 - val_acc: 0.1158\n",
      "Epoch 29/100\n",
      "0s - loss: 2.4382 - acc: 0.1359 - val_loss: 2.4744 - val_acc: 0.1137\n",
      "Epoch 30/100\n",
      "0s - loss: 2.4396 - acc: 0.1233 - val_loss: 2.4531 - val_acc: 0.1396\n",
      "Epoch 31/100\n",
      "0s - loss: 2.4382 - acc: 0.1392 - val_loss: 2.4474 - val_acc: 0.1151\n",
      "Epoch 32/100\n",
      "0s - loss: 2.4437 - acc: 0.1266 - val_loss: 2.4660 - val_acc: 0.1151\n",
      "Epoch 33/100\n",
      "0s - loss: 2.4375 - acc: 0.1290 - val_loss: 2.4446 - val_acc: 0.1418\n",
      "Epoch 34/100\n",
      "0s - loss: 2.4402 - acc: 0.1197 - val_loss: 2.4588 - val_acc: 0.1418\n",
      "Epoch 35/100\n",
      "0s - loss: 2.4351 - acc: 0.1263 - val_loss: 2.4624 - val_acc: 0.1158\n",
      "Epoch 36/100\n",
      "0s - loss: 2.4392 - acc: 0.1317 - val_loss: 2.4887 - val_acc: 0.1158\n",
      "Epoch 37/100\n",
      "0s - loss: 2.4391 - acc: 0.1356 - val_loss: 2.4555 - val_acc: 0.1067\n",
      "Epoch 38/100\n",
      "0s - loss: 2.4344 - acc: 0.1386 - val_loss: 2.4541 - val_acc: 0.0870\n",
      "Epoch 39/100\n",
      "0s - loss: 2.4419 - acc: 0.1272 - val_loss: 2.4409 - val_acc: 0.1361\n",
      "Epoch 40/100\n",
      "0s - loss: 2.4355 - acc: 0.1347 - val_loss: 2.4552 - val_acc: 0.1158\n",
      "Epoch 41/100\n",
      "0s - loss: 2.4358 - acc: 0.1254 - val_loss: 2.4433 - val_acc: 0.1439\n",
      "Epoch 42/100\n",
      "0s - loss: 2.4327 - acc: 0.1296 - val_loss: 2.5000 - val_acc: 0.1060\n",
      "Epoch 43/100\n",
      "0s - loss: 2.4361 - acc: 0.1311 - val_loss: 2.4501 - val_acc: 0.0996\n",
      "Epoch 44/100\n",
      "0s - loss: 2.4336 - acc: 0.1329 - val_loss: 2.4764 - val_acc: 0.1396\n",
      "Epoch 45/100\n",
      "0s - loss: 2.4378 - acc: 0.1296 - val_loss: 2.4515 - val_acc: 0.1151\n",
      "Epoch 46/100\n",
      "0s - loss: 2.4331 - acc: 0.1320 - val_loss: 2.4628 - val_acc: 0.1375\n",
      "Epoch 47/100\n",
      "0s - loss: 2.4386 - acc: 0.1347 - val_loss: 2.4715 - val_acc: 0.1172\n",
      "Epoch 48/100\n",
      "0s - loss: 2.4394 - acc: 0.1350 - val_loss: 2.4632 - val_acc: 0.0814\n",
      "Epoch 49/100\n",
      "0s - loss: 2.4344 - acc: 0.1323 - val_loss: 2.4794 - val_acc: 0.1144\n",
      "Epoch 50/100\n",
      "0s - loss: 2.4385 - acc: 0.1236 - val_loss: 2.4576 - val_acc: 0.1144\n",
      "Epoch 51/100\n",
      "0s - loss: 2.4327 - acc: 0.1350 - val_loss: 2.4702 - val_acc: 0.1116\n",
      "Epoch 52/100\n",
      "0s - loss: 2.4366 - acc: 0.1284 - val_loss: 2.4580 - val_acc: 0.1151\n",
      "Epoch 53/100\n",
      "0s - loss: 2.4355 - acc: 0.1278 - val_loss: 2.4489 - val_acc: 0.1418\n",
      "Epoch 54/100\n",
      "0s - loss: 2.4337 - acc: 0.1374 - val_loss: 2.4582 - val_acc: 0.1067\n",
      "Epoch 55/100\n",
      "0s - loss: 2.4340 - acc: 0.1314 - val_loss: 2.4631 - val_acc: 0.1137\n",
      "Epoch 56/100\n",
      "0s - loss: 2.4370 - acc: 0.1290 - val_loss: 2.4543 - val_acc: 0.1382\n",
      "Epoch 57/100\n",
      "0s - loss: 2.4316 - acc: 0.1383 - val_loss: 2.4784 - val_acc: 0.1158\n",
      "Epoch 58/100\n",
      "0s - loss: 2.4335 - acc: 0.1402 - val_loss: 2.5205 - val_acc: 0.1025\n",
      "Epoch 59/100\n",
      "0s - loss: 2.4302 - acc: 0.1353 - val_loss: 2.5110 - val_acc: 0.1137\n",
      "Epoch 60/100\n",
      "0s - loss: 2.4357 - acc: 0.1341 - val_loss: 2.4431 - val_acc: 0.1425\n",
      "Epoch 61/100\n",
      "0s - loss: 2.4348 - acc: 0.1290 - val_loss: 2.4549 - val_acc: 0.1439\n",
      "Epoch 62/100\n",
      "0s - loss: 2.4371 - acc: 0.1323 - val_loss: 2.4640 - val_acc: 0.1137\n",
      "Epoch 63/100\n",
      "0s - loss: 2.4313 - acc: 0.1420 - val_loss: 2.4577 - val_acc: 0.1158\n",
      "Epoch 64/100\n",
      "0s - loss: 2.4335 - acc: 0.1281 - val_loss: 2.4760 - val_acc: 0.1102\n",
      "Epoch 65/100\n",
      "0s - loss: 2.4343 - acc: 0.1317 - val_loss: 2.4553 - val_acc: 0.1249\n",
      "Epoch 66/100\n",
      "0s - loss: 2.4291 - acc: 0.1365 - val_loss: 2.4564 - val_acc: 0.1389\n",
      "Epoch 67/100\n",
      "0s - loss: 2.4307 - acc: 0.1371 - val_loss: 2.4590 - val_acc: 0.0996\n",
      "Epoch 68/100\n",
      "0s - loss: 2.4311 - acc: 0.1359 - val_loss: 2.4570 - val_acc: 0.1137\n",
      "Epoch 69/100\n",
      "0s - loss: 2.4302 - acc: 0.1308 - val_loss: 2.4454 - val_acc: 0.1193\n",
      "Epoch 70/100\n",
      "0s - loss: 2.4356 - acc: 0.1353 - val_loss: 2.4657 - val_acc: 0.1144\n",
      "Epoch 71/100\n",
      "0s - loss: 2.4320 - acc: 0.1344 - val_loss: 2.5011 - val_acc: 0.1144\n",
      "Epoch 72/100\n",
      "0s - loss: 2.4300 - acc: 0.1344 - val_loss: 2.4482 - val_acc: 0.1418\n",
      "Epoch 73/100\n",
      "0s - loss: 2.4325 - acc: 0.1284 - val_loss: 2.4594 - val_acc: 0.1396\n",
      "Epoch 74/100\n",
      "0s - loss: 2.4270 - acc: 0.1398 - val_loss: 2.4633 - val_acc: 0.1158\n",
      "Epoch 75/100\n",
      "0s - loss: 2.4316 - acc: 0.1368 - val_loss: 2.4565 - val_acc: 0.1158\n",
      "Epoch 76/100\n",
      "0s - loss: 2.4314 - acc: 0.1341 - val_loss: 2.4522 - val_acc: 0.1221\n",
      "Epoch 77/100\n",
      "0s - loss: 2.4288 - acc: 0.1365 - val_loss: 2.4504 - val_acc: 0.1439\n",
      "Epoch 78/100\n",
      "0s - loss: 2.4276 - acc: 0.1395 - val_loss: 2.4574 - val_acc: 0.1158\n",
      "Epoch 79/100\n",
      "0s - loss: 2.4308 - acc: 0.1317 - val_loss: 2.4820 - val_acc: 0.1382\n",
      "Epoch 80/100\n",
      "0s - loss: 2.4323 - acc: 0.1344 - val_loss: 2.4457 - val_acc: 0.1130\n",
      "Epoch 81/100\n",
      "0s - loss: 2.4254 - acc: 0.1344 - val_loss: 2.4591 - val_acc: 0.1396\n",
      "Epoch 82/100\n",
      "0s - loss: 2.4309 - acc: 0.1341 - val_loss: 2.4620 - val_acc: 0.1032\n",
      "Epoch 83/100\n",
      "0s - loss: 2.4274 - acc: 0.1353 - val_loss: 2.5206 - val_acc: 0.1165\n",
      "Epoch 84/100\n",
      "0s - loss: 2.4289 - acc: 0.1332 - val_loss: 2.4702 - val_acc: 0.0807\n",
      "Epoch 85/100\n",
      "0s - loss: 2.4298 - acc: 0.1320 - val_loss: 2.4439 - val_acc: 0.1425\n",
      "Epoch 86/100\n",
      "0s - loss: 2.4283 - acc: 0.1395 - val_loss: 2.4536 - val_acc: 0.1137\n",
      "Epoch 87/100\n",
      "0s - loss: 2.4262 - acc: 0.1350 - val_loss: 2.4440 - val_acc: 0.1144\n",
      "Epoch 88/100\n",
      "0s - loss: 2.4284 - acc: 0.1353 - val_loss: 2.4633 - val_acc: 0.1039\n",
      "Epoch 89/100\n",
      "0s - loss: 2.4301 - acc: 0.1287 - val_loss: 2.4399 - val_acc: 0.1389\n",
      "Epoch 90/100\n",
      "0s - loss: 2.4274 - acc: 0.1386 - val_loss: 2.4565 - val_acc: 0.1396\n",
      "Epoch 91/100\n",
      "0s - loss: 2.4237 - acc: 0.1465 - val_loss: 2.4523 - val_acc: 0.1375\n",
      "Epoch 92/100\n",
      "0s - loss: 2.4274 - acc: 0.1438 - val_loss: 2.4745 - val_acc: 0.1053\n",
      "Epoch 93/100\n",
      "0s - loss: 2.4262 - acc: 0.1405 - val_loss: 2.4622 - val_acc: 0.1130\n",
      "Epoch 94/100\n",
      "0s - loss: 2.4261 - acc: 0.1200 - val_loss: 2.4600 - val_acc: 0.1418\n",
      "Epoch 95/100\n",
      "0s - loss: 2.4269 - acc: 0.1365 - val_loss: 2.4755 - val_acc: 0.1011\n",
      "Epoch 96/100\n",
      "0s - loss: 2.4259 - acc: 0.1380 - val_loss: 2.5044 - val_acc: 0.1144\n",
      "Epoch 97/100\n",
      "0s - loss: 2.4267 - acc: 0.1359 - val_loss: 2.4808 - val_acc: 0.1158\n",
      "Epoch 98/100\n",
      "0s - loss: 2.4219 - acc: 0.1411 - val_loss: 2.4619 - val_acc: 0.0982\n",
      "Epoch 99/100\n",
      "0s - loss: 2.4252 - acc: 0.1450 - val_loss: 2.4558 - val_acc: 0.1425\n",
      "Epoch 100/100\n",
      "0s - loss: 2.4220 - acc: 0.1296 - val_loss: 2.4602 - val_acc: 0.1256\n"
     ]
    },
    {
     "data": {
      "text/plain": [
       "<keras.callbacks.History at 0x1b15679cd30>"
      ]
     },
     "execution_count": 16,
     "metadata": {},
     "output_type": "execute_result"
    }
   ],
   "source": [
    "model.fit(bottleneck_train,train_targets,epochs=100,validation_split=.30,batch_size=25,shuffle=True,verbose=2)"
   ]
  },
  {
   "cell_type": "code",
   "execution_count": 17,
   "metadata": {
    "collapsed": true,
    "deletable": true,
    "editable": true
   },
   "outputs": [],
   "source": [
    "model.save_weights('bottleneck_fc_model.h5')"
   ]
  },
  {
   "cell_type": "code",
   "execution_count": null,
   "metadata": {
    "collapsed": true
   },
   "outputs": [],
   "source": []
  }
 ],
 "metadata": {
  "anaconda-cloud": {},
  "kernelspec": {
   "display_name": "Python [default]",
   "language": "python",
   "name": "python3"
  },
  "language_info": {
   "codemirror_mode": {
    "name": "ipython",
    "version": 3
   },
   "file_extension": ".py",
   "mimetype": "text/x-python",
   "name": "python",
   "nbconvert_exporter": "python",
   "pygments_lexer": "ipython3",
   "version": "3.5.3"
  }
 },
 "nbformat": 4,
 "nbformat_minor": 2
}
