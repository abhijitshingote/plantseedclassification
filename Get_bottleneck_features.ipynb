{
 "cells": [
  {
   "cell_type": "code",
   "execution_count": 17,
   "metadata": {
    "collapsed": false,
    "deletable": true,
    "editable": true
   },
   "outputs": [],
   "source": [
    "import numpy as np\n",
    "from keras.applications import ResNet50,Xception,VGG16,VGG19\n",
    "from keras.preprocessing.image import ImageDataGenerator\n",
    "import matplotlib.pyplot as plt\n",
    "from glob import glob\n",
    "%matplotlib inline"
   ]
  },
  {
   "cell_type": "code",
   "execution_count": 56,
   "metadata": {
    "collapsed": false
   },
   "outputs": [],
   "source": [
    "def save_bottleneck(directory,outputfilename,model_request):\n",
    "    batch_size=25\n",
    "    samples=len(glob(directory+'*/*'))\n",
    "    # Build a generator to feed to the predict method\n",
    "    datagen_train=ImageDataGenerator(rescale=1./255,shear_range=0.2,zoom_range=0.2,horizontal_flip=True)\n",
    "    train_gen=datagen_train.flow_from_directory(directory,batch_size=batch_size,target_size=[224,224],class_mode=None)\n",
    "    if model_request=='resnet':\n",
    "        model=ResNet50(include_top=False,weights='imagenet')\n",
    "    elif model_request=='vgg16':\n",
    "        model=VGG16(include_top=False,weights='imagenet')\n",
    "    elif model_request=='vgg19':\n",
    "        model=VGG19(include_top=False,weights='imagenet')\n",
    "    elif model_request=='xception':\n",
    "        model=Xception(include_top=False,weights='imagenet')\n",
    "    bottleneck_train=model.predict_generator(train_gen,np.ceil(samples/batch_size))\n",
    "    np.save(open(outputfilename,'wb'),bottleneck_train)"
   ]
  },
  {
   "cell_type": "code",
   "execution_count": 57,
   "metadata": {
    "collapsed": false
   },
   "outputs": [
    {
     "name": "stdout",
     "output_type": "stream",
     "text": [
      "Found 4750 images belonging to 12 classes.\n"
     ]
    }
   ],
   "source": [
    "save_bottleneck('train/','bottleneck_train_resnet50','resnet')"
   ]
  },
  {
   "cell_type": "code",
   "execution_count": 36,
   "metadata": {
    "collapsed": true
   },
   "outputs": [],
   "source": [
    "temp=np.load('bottleneck_traintrain_resnet50.npy')"
   ]
  },
  {
   "cell_type": "code",
   "execution_count": null,
   "metadata": {
    "collapsed": true
   },
   "outputs": [],
   "source": []
  }
 ],
 "metadata": {
  "kernelspec": {
   "display_name": "Python [default]",
   "language": "python",
   "name": "python3"
  },
  "language_info": {
   "codemirror_mode": {
    "name": "ipython",
    "version": 3
   },
   "file_extension": ".py",
   "mimetype": "text/x-python",
   "name": "python",
   "nbconvert_exporter": "python",
   "pygments_lexer": "ipython3",
   "version": "3.5.3"
  }
 },
 "nbformat": 4,
 "nbformat_minor": 2
}
