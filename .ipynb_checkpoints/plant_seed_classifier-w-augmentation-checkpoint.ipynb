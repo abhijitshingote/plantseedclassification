{
 "cells": [
  {
   "cell_type": "code",
   "execution_count": 2,
   "metadata": {
    "collapsed": false,
    "deletable": true,
    "editable": true
   },
   "outputs": [],
   "source": [
    "import numpy as np\n",
    "import matplotlib.pyplot as plt\n",
    "from glob import glob\n",
    "from keras.utils import np_utils\n",
    "from sklearn.datasets import load_files\n",
    "from keras.preprocessing import image\n"
   ]
  },
  {
   "cell_type": "code",
   "execution_count": 33,
   "metadata": {
    "collapsed": true,
    "deletable": true,
    "editable": true
   },
   "outputs": [],
   "source": [
    "train_files=load_files('train/')\n",
    "train_imgpaths=train_files['filenames']\n",
    "train_targets=np_utils.to_categorical(train_files['target'],len(train_files['target_names']))\n",
    "target_names=dict(enumerate(train_files.target_names))"
   ]
  },
  {
   "cell_type": "code",
   "execution_count": 4,
   "metadata": {
    "collapsed": false,
    "deletable": true,
    "editable": true
   },
   "outputs": [],
   "source": [
    "def path_to_tensor(path):\n",
    "    #load image\n",
    "    img=image.load_img(path,target_size=[224,224])\n",
    "    imgarray=image.img_to_array(img)\n",
    "    imgarray=np.expand_dims(imgarray,axis=0)\n",
    "    return imgarray"
   ]
  },
  {
   "cell_type": "code",
   "execution_count": 5,
   "metadata": {
    "collapsed": true,
    "deletable": true,
    "editable": true
   },
   "outputs": [],
   "source": [
    "def paths_to_tensor(paths):\n",
    "    listoftensors=[path_to_tensor(path) for path in paths]\n",
    "    return np.vstack(listoftensors)"
   ]
  },
  {
   "cell_type": "code",
   "execution_count": 6,
   "metadata": {
    "collapsed": false,
    "deletable": true,
    "editable": true
   },
   "outputs": [],
   "source": [
    "train_tensors=paths_to_tensor(train_imgpaths)\n"
   ]
  },
  {
   "cell_type": "code",
   "execution_count": 7,
   "metadata": {
    "collapsed": true,
    "deletable": true,
    "editable": true
   },
   "outputs": [],
   "source": [
    "train_tensors=train_tensors/float(255)\n",
    "train_tensors,valid_tensors,test_tensors=train_tensors[:-1700],train_tensors[-1700:-950],train_tensors[-950:]\n",
    "train_targets,valid_targets,test_targets=train_targets[:-1700],train_targets[-1700:-950],train_targets[-950:]"
   ]
  },
  {
   "cell_type": "code",
   "execution_count": 8,
   "metadata": {
    "collapsed": true
   },
   "outputs": [],
   "source": [
    "train_gen=image.ImageDataGenerator(horizontal_flip=True,width_shift_range=0.1,height_shift_range=0.1)\n",
    "train_gen.fit(train_tensors)"
   ]
  },
  {
   "cell_type": "code",
   "execution_count": 9,
   "metadata": {
    "collapsed": false,
    "deletable": true,
    "editable": true
   },
   "outputs": [],
   "source": [
    "from keras.layers import Dense,Convolution2D,MaxPooling2D,Dropout,Flatten\n",
    "from keras.models import Sequential"
   ]
  },
  {
   "cell_type": "code",
   "execution_count": 10,
   "metadata": {
    "collapsed": false,
    "deletable": true,
    "editable": true
   },
   "outputs": [
    {
     "name": "stdout",
     "output_type": "stream",
     "text": [
      "_________________________________________________________________\n",
      "Layer (type)                 Output Shape              Param #   \n",
      "=================================================================\n",
      "conv2d_1 (Conv2D)            (None, 222, 222, 16)      448       \n",
      "_________________________________________________________________\n",
      "max_pooling2d_1 (MaxPooling2 (None, 74, 74, 16)        0         \n",
      "_________________________________________________________________\n",
      "conv2d_2 (Conv2D)            (None, 72, 72, 32)        4640      \n",
      "_________________________________________________________________\n",
      "max_pooling2d_2 (MaxPooling2 (None, 24, 24, 32)        0         \n",
      "_________________________________________________________________\n",
      "conv2d_3 (Conv2D)            (None, 22, 22, 64)        18496     \n",
      "_________________________________________________________________\n",
      "max_pooling2d_3 (MaxPooling2 (None, 7, 7, 64)          0         \n",
      "_________________________________________________________________\n",
      "conv2d_4 (Conv2D)            (None, 5, 5, 128)         73856     \n",
      "_________________________________________________________________\n",
      "max_pooling2d_4 (MaxPooling2 (None, 1, 1, 128)         0         \n",
      "_________________________________________________________________\n",
      "flatten_1 (Flatten)          (None, 128)               0         \n",
      "_________________________________________________________________\n",
      "dense_1 (Dense)              (None, 10)                1290      \n",
      "_________________________________________________________________\n",
      "dropout_1 (Dropout)          (None, 10)                0         \n",
      "_________________________________________________________________\n",
      "dense_2 (Dense)              (None, 12)                132       \n",
      "=================================================================\n",
      "Total params: 98,862.0\n",
      "Trainable params: 98,862.0\n",
      "Non-trainable params: 0.0\n",
      "_________________________________________________________________\n"
     ]
    }
   ],
   "source": [
    "snn=Sequential()\n",
    "snn.add(Convolution2D(kernel_size=[3,3],filters=16,activation='relu',input_shape=[224,224,3]))\n",
    "snn.add(MaxPooling2D(pool_size=[3,3]))\n",
    "snn.add(Convolution2D(kernel_size=[3,3],filters=32,activation='relu'))\n",
    "snn.add(MaxPooling2D(pool_size=[3,3]))\n",
    "snn.add(Convolution2D(kernel_size=[3,3],filters=64,activation='relu'))\n",
    "snn.add(MaxPooling2D(pool_size=[3,3]))\n",
    "snn.add(Convolution2D(kernel_size=[3,3],filters=128,activation='relu'))\n",
    "snn.add(MaxPooling2D(pool_size=[3,3]))\n",
    "snn.add(Flatten())\n",
    "snn.add(Dense(units=10,activation='relu'))\n",
    "snn.add(Dropout(0.2))\n",
    "snn.add(Dense(units=12,activation='softmax'))\n",
    "snn.summary()"
   ]
  },
  {
   "cell_type": "code",
   "execution_count": 11,
   "metadata": {
    "collapsed": false,
    "deletable": true,
    "editable": true
   },
   "outputs": [],
   "source": [
    "snn.compile(loss='categorical_crossentropy',metrics=['accuracy'],optimizer='rmsprop')"
   ]
  },
  {
   "cell_type": "code",
   "execution_count": 15,
   "metadata": {
    "collapsed": false,
    "deletable": true,
    "editable": true
   },
   "outputs": [
    {
     "name": "stdout",
     "output_type": "stream",
     "text": [
      "Epoch 1/100\n",
      "Epoch 00000: val_loss improved from inf to 2.41965, saving model to snnweights_augmentation.best.hdf5\n",
      "21s - loss: 2.4700 - acc: 0.1149 - val_loss: 2.4197 - val_acc: 0.2080\n",
      "Epoch 2/100\n",
      "Epoch 00001: val_loss improved from 2.41965 to 2.16488, saving model to snnweights_augmentation.best.hdf5\n",
      "19s - loss: 2.3092 - acc: 0.1980 - val_loss: 2.1649 - val_acc: 0.2920\n",
      "Epoch 3/100\n",
      "Epoch 00002: val_loss improved from 2.16488 to 1.94039, saving model to snnweights_augmentation.best.hdf5\n",
      "19s - loss: 2.1385 - acc: 0.2823 - val_loss: 1.9404 - val_acc: 0.4080\n",
      "Epoch 4/100\n",
      "Epoch 00003: val_loss improved from 1.94039 to 1.89781, saving model to snnweights_augmentation.best.hdf5\n",
      "19s - loss: 1.9958 - acc: 0.3389 - val_loss: 1.8978 - val_acc: 0.3587\n",
      "Epoch 5/100\n",
      "Epoch 00004: val_loss improved from 1.89781 to 1.71767, saving model to snnweights_augmentation.best.hdf5\n",
      "19s - loss: 1.8733 - acc: 0.3767 - val_loss: 1.7177 - val_acc: 0.4480\n",
      "Epoch 6/100\n",
      "Epoch 00005: val_loss improved from 1.71767 to 1.68044, saving model to snnweights_augmentation.best.hdf5\n",
      "20s - loss: 1.7842 - acc: 0.3886 - val_loss: 1.6804 - val_acc: 0.3853\n",
      "Epoch 7/100\n",
      "Epoch 00006: val_loss improved from 1.68044 to 1.58181, saving model to snnweights_augmentation.best.hdf5\n",
      "20s - loss: 1.6742 - acc: 0.4284 - val_loss: 1.5818 - val_acc: 0.4387\n",
      "Epoch 8/100\n",
      "Epoch 00007: val_loss improved from 1.58181 to 1.38347, saving model to snnweights_augmentation.best.hdf5\n",
      "20s - loss: 1.6292 - acc: 0.4388 - val_loss: 1.3835 - val_acc: 0.5640\n",
      "Epoch 9/100\n",
      "Epoch 00008: val_loss did not improve\n",
      "20s - loss: 1.5507 - acc: 0.4718 - val_loss: 1.4779 - val_acc: 0.4947\n",
      "Epoch 10/100\n",
      "Epoch 00009: val_loss improved from 1.38347 to 1.35083, saving model to snnweights_augmentation.best.hdf5\n",
      "19s - loss: 1.5328 - acc: 0.4822 - val_loss: 1.3508 - val_acc: 0.5653\n",
      "Epoch 11/100\n",
      "Epoch 00010: val_loss improved from 1.35083 to 1.30430, saving model to snnweights_augmentation.best.hdf5\n",
      "20s - loss: 1.4657 - acc: 0.4951 - val_loss: 1.3043 - val_acc: 0.5880\n",
      "Epoch 12/100\n",
      "Epoch 00011: val_loss did not improve\n",
      "19s - loss: 1.4177 - acc: 0.5017 - val_loss: 1.3259 - val_acc: 0.5480\n",
      "Epoch 13/100\n",
      "Epoch 00012: val_loss did not improve\n",
      "20s - loss: 1.3724 - acc: 0.5218 - val_loss: 1.4700 - val_acc: 0.5173\n",
      "Epoch 14/100\n",
      "Epoch 00013: val_loss improved from 1.30430 to 1.14485, saving model to snnweights_augmentation.best.hdf5\n",
      "19s - loss: 1.3651 - acc: 0.5337 - val_loss: 1.1449 - val_acc: 0.6347\n",
      "Epoch 15/100\n",
      "Epoch 00014: val_loss improved from 1.14485 to 1.11911, saving model to snnweights_augmentation.best.hdf5\n",
      "20s - loss: 1.3056 - acc: 0.5497 - val_loss: 1.1191 - val_acc: 0.6413\n",
      "Epoch 16/100\n",
      "Epoch 00015: val_loss did not improve\n",
      "19s - loss: 1.2565 - acc: 0.5640 - val_loss: 1.2148 - val_acc: 0.5907\n",
      "Epoch 17/100\n",
      "Epoch 00016: val_loss improved from 1.11911 to 1.05074, saving model to snnweights_augmentation.best.hdf5\n",
      "19s - loss: 1.2627 - acc: 0.5708 - val_loss: 1.0507 - val_acc: 0.6667\n",
      "Epoch 18/100\n",
      "Epoch 00017: val_loss did not improve\n",
      "19s - loss: 1.2499 - acc: 0.5634 - val_loss: 1.0668 - val_acc: 0.6560\n",
      "Epoch 19/100\n",
      "Epoch 00018: val_loss did not improve\n",
      "19s - loss: 1.2111 - acc: 0.5701 - val_loss: 1.0778 - val_acc: 0.6307\n",
      "Epoch 20/100\n",
      "Epoch 00019: val_loss did not improve\n",
      "19s - loss: 1.2213 - acc: 0.5726 - val_loss: 1.2434 - val_acc: 0.5707\n",
      "Epoch 21/100\n",
      "Epoch 00020: val_loss improved from 1.05074 to 0.97966, saving model to snnweights_augmentation.best.hdf5\n",
      "19s - loss: 1.1715 - acc: 0.6023 - val_loss: 0.9797 - val_acc: 0.6867\n",
      "Epoch 22/100\n",
      "Epoch 00021: val_loss did not improve\n",
      "19s - loss: 1.1655 - acc: 0.5936 - val_loss: 1.1100 - val_acc: 0.6493\n",
      "Epoch 23/100\n",
      "Epoch 00022: val_loss did not improve\n",
      "19s - loss: 1.1481 - acc: 0.6038 - val_loss: 1.0238 - val_acc: 0.6747\n",
      "Epoch 24/100\n",
      "Epoch 00023: val_loss improved from 0.97966 to 0.90255, saving model to snnweights_augmentation.best.hdf5\n",
      "19s - loss: 1.1052 - acc: 0.6119 - val_loss: 0.9026 - val_acc: 0.7173\n",
      "Epoch 25/100\n",
      "Epoch 00024: val_loss did not improve\n",
      "19s - loss: 1.0795 - acc: 0.6215 - val_loss: 0.9082 - val_acc: 0.7053\n",
      "Epoch 26/100\n",
      "Epoch 00025: val_loss did not improve\n",
      "19s - loss: 1.0633 - acc: 0.6236 - val_loss: 1.1255 - val_acc: 0.6347\n",
      "Epoch 27/100\n",
      "Epoch 00026: val_loss improved from 0.90255 to 0.88033, saving model to snnweights_augmentation.best.hdf5\n",
      "19s - loss: 1.0255 - acc: 0.6431 - val_loss: 0.8803 - val_acc: 0.7267\n",
      "Epoch 28/100\n",
      "Epoch 00027: val_loss improved from 0.88033 to 0.77564, saving model to snnweights_augmentation.best.hdf5\n",
      "19s - loss: 1.0207 - acc: 0.6412 - val_loss: 0.7756 - val_acc: 0.7707\n",
      "Epoch 29/100\n",
      "Epoch 00028: val_loss did not improve\n",
      "19s - loss: 0.9881 - acc: 0.6510 - val_loss: 0.8000 - val_acc: 0.7467\n",
      "Epoch 30/100\n",
      "Epoch 00029: val_loss did not improve\n",
      "19s - loss: 1.0095 - acc: 0.6454 - val_loss: 0.7761 - val_acc: 0.7387\n",
      "Epoch 31/100\n",
      "Epoch 00030: val_loss did not improve\n",
      "19s - loss: 0.9781 - acc: 0.6602 - val_loss: 0.8156 - val_acc: 0.7507\n",
      "Epoch 32/100\n",
      "Epoch 00031: val_loss improved from 0.77564 to 0.71249, saving model to snnweights_augmentation.best.hdf5\n",
      "20s - loss: 0.9257 - acc: 0.6658 - val_loss: 0.7125 - val_acc: 0.7747\n",
      "Epoch 33/100\n",
      "Epoch 00032: val_loss did not improve\n",
      "19s - loss: 0.9351 - acc: 0.6729 - val_loss: 0.7198 - val_acc: 0.7773\n",
      "Epoch 34/100\n",
      "Epoch 00033: val_loss did not improve\n",
      "19s - loss: 0.9115 - acc: 0.6781 - val_loss: 0.7210 - val_acc: 0.7787\n",
      "Epoch 35/100\n",
      "Epoch 00034: val_loss did not improve\n",
      "19s - loss: 0.8673 - acc: 0.6929 - val_loss: 0.9835 - val_acc: 0.6947\n",
      "Epoch 36/100\n",
      "Epoch 00035: val_loss did not improve\n",
      "19s - loss: 0.8462 - acc: 0.6970 - val_loss: 0.7366 - val_acc: 0.7680\n",
      "Epoch 37/100\n",
      "Epoch 00036: val_loss improved from 0.71249 to 0.69575, saving model to snnweights_augmentation.best.hdf5\n",
      "19s - loss: 0.8591 - acc: 0.7079 - val_loss: 0.6958 - val_acc: 0.7867\n",
      "Epoch 38/100\n",
      "Epoch 00037: val_loss did not improve\n",
      "19s - loss: 0.8241 - acc: 0.7112 - val_loss: 0.8144 - val_acc: 0.7427\n",
      "Epoch 39/100\n",
      "Epoch 00038: val_loss improved from 0.69575 to 0.69407, saving model to snnweights_augmentation.best.hdf5\n",
      "19s - loss: 0.8328 - acc: 0.7050 - val_loss: 0.6941 - val_acc: 0.7693\n",
      "Epoch 40/100\n",
      "Epoch 00039: val_loss did not improve\n",
      "19s - loss: 0.8070 - acc: 0.7249 - val_loss: 0.7145 - val_acc: 0.7853\n",
      "Epoch 41/100\n",
      "Epoch 00040: val_loss improved from 0.69407 to 0.68314, saving model to snnweights_augmentation.best.hdf5\n",
      "19s - loss: 0.7953 - acc: 0.7310 - val_loss: 0.6831 - val_acc: 0.7773\n",
      "Epoch 42/100\n",
      "Epoch 00041: val_loss improved from 0.68314 to 0.64634, saving model to snnweights_augmentation.best.hdf5\n",
      "19s - loss: 0.7494 - acc: 0.7353 - val_loss: 0.6463 - val_acc: 0.8040\n",
      "Epoch 43/100\n",
      "Epoch 00042: val_loss improved from 0.64634 to 0.58219, saving model to snnweights_augmentation.best.hdf5\n",
      "19s - loss: 0.7770 - acc: 0.7286 - val_loss: 0.5822 - val_acc: 0.8293\n",
      "Epoch 44/100\n",
      "Epoch 00043: val_loss did not improve\n",
      "19s - loss: 0.7783 - acc: 0.7289 - val_loss: 0.7676 - val_acc: 0.7480\n",
      "Epoch 45/100\n",
      "Epoch 00044: val_loss did not improve\n",
      "20s - loss: 0.6891 - acc: 0.7531 - val_loss: 0.7784 - val_acc: 0.7480\n",
      "Epoch 46/100\n",
      "Epoch 00045: val_loss did not improve\n",
      "19s - loss: 0.7359 - acc: 0.7444 - val_loss: 0.6546 - val_acc: 0.8053\n",
      "Epoch 47/100\n",
      "Epoch 00046: val_loss did not improve\n",
      "19s - loss: 0.7164 - acc: 0.7550 - val_loss: 0.5985 - val_acc: 0.8173\n",
      "Epoch 48/100\n",
      "Epoch 00047: val_loss improved from 0.58219 to 0.56524, saving model to snnweights_augmentation.best.hdf5\n",
      "19s - loss: 0.6973 - acc: 0.7531 - val_loss: 0.5652 - val_acc: 0.8227\n",
      "Epoch 49/100\n",
      "Epoch 00048: val_loss did not improve\n",
      "19s - loss: 0.7457 - acc: 0.7432 - val_loss: 0.5685 - val_acc: 0.8280\n",
      "Epoch 50/100\n",
      "Epoch 00049: val_loss improved from 0.56524 to 0.53566, saving model to snnweights_augmentation.best.hdf5\n",
      "20s - loss: 0.6893 - acc: 0.7587 - val_loss: 0.5357 - val_acc: 0.8267\n",
      "Epoch 51/100\n",
      "Epoch 00050: val_loss did not improve\n",
      "19s - loss: 0.6719 - acc: 0.7719 - val_loss: 0.8906 - val_acc: 0.7200\n",
      "Epoch 52/100\n",
      "Epoch 00051: val_loss did not improve\n",
      "19s - loss: 0.6725 - acc: 0.7663 - val_loss: 0.5857 - val_acc: 0.8213\n",
      "Epoch 53/100\n",
      "Epoch 00052: val_loss did not improve\n",
      "19s - loss: 0.6583 - acc: 0.7688 - val_loss: 0.5584 - val_acc: 0.8267\n",
      "Epoch 54/100\n",
      "Epoch 00053: val_loss did not improve\n",
      "19s - loss: 0.6637 - acc: 0.7683 - val_loss: 0.5562 - val_acc: 0.8280\n",
      "Epoch 55/100\n",
      "Epoch 00054: val_loss improved from 0.53566 to 0.51800, saving model to snnweights_augmentation.best.hdf5\n",
      "19s - loss: 0.6275 - acc: 0.7728 - val_loss: 0.5180 - val_acc: 0.8320\n",
      "Epoch 56/100\n",
      "Epoch 00055: val_loss did not improve\n",
      "19s - loss: 0.6458 - acc: 0.7825 - val_loss: 0.5873 - val_acc: 0.8200\n",
      "Epoch 57/100\n",
      "Epoch 00056: val_loss did not improve\n",
      "19s - loss: 0.6411 - acc: 0.7787 - val_loss: 0.5870 - val_acc: 0.8253\n",
      "Epoch 58/100\n",
      "Epoch 00057: val_loss did not improve\n",
      "19s - loss: 0.6483 - acc: 0.7776 - val_loss: 0.7989 - val_acc: 0.7440\n",
      "Epoch 59/100\n",
      "Epoch 00058: val_loss improved from 0.51800 to 0.47392, saving model to snnweights_augmentation.best.hdf5\n",
      "19s - loss: 0.6595 - acc: 0.7708 - val_loss: 0.4739 - val_acc: 0.8627\n",
      "Epoch 60/100\n",
      "Epoch 00059: val_loss did not improve\n",
      "19s - loss: 0.6224 - acc: 0.7827 - val_loss: 0.6075 - val_acc: 0.8147\n",
      "Epoch 61/100\n",
      "Epoch 00060: val_loss did not improve\n",
      "19s - loss: 0.6297 - acc: 0.7850 - val_loss: 0.5438 - val_acc: 0.8373\n",
      "Epoch 62/100\n",
      "Epoch 00061: val_loss did not improve\n",
      "19s - loss: 0.6235 - acc: 0.7853 - val_loss: 0.5240 - val_acc: 0.8493\n",
      "Epoch 63/100\n",
      "Epoch 00062: val_loss did not improve\n",
      "19s - loss: 0.5980 - acc: 0.7944 - val_loss: 0.6232 - val_acc: 0.7867\n",
      "Epoch 64/100\n",
      "Epoch 00063: val_loss did not improve\n",
      "19s - loss: 0.6227 - acc: 0.7794 - val_loss: 0.4951 - val_acc: 0.8520\n",
      "Epoch 65/100\n",
      "Epoch 00064: val_loss improved from 0.47392 to 0.46328, saving model to snnweights_augmentation.best.hdf5\n",
      "19s - loss: 0.5845 - acc: 0.7881 - val_loss: 0.4633 - val_acc: 0.8547\n",
      "Epoch 66/100\n",
      "Epoch 00065: val_loss did not improve\n",
      "19s - loss: 0.5801 - acc: 0.7924 - val_loss: 0.5320 - val_acc: 0.8507\n",
      "Epoch 67/100\n",
      "Epoch 00066: val_loss improved from 0.46328 to 0.45158, saving model to snnweights_augmentation.best.hdf5\n",
      "19s - loss: 0.5709 - acc: 0.8036 - val_loss: 0.4516 - val_acc: 0.8613\n",
      "Epoch 68/100\n",
      "Epoch 00067: val_loss did not improve\n",
      "19s - loss: 0.5439 - acc: 0.8112 - val_loss: 0.6731 - val_acc: 0.7893\n",
      "Epoch 69/100\n",
      "Epoch 00068: val_loss did not improve\n",
      "19s - loss: 0.5561 - acc: 0.8074 - val_loss: 0.5325 - val_acc: 0.8280\n",
      "Epoch 70/100\n",
      "Epoch 00069: val_loss did not improve\n",
      "19s - loss: 0.5572 - acc: 0.8094 - val_loss: 0.5287 - val_acc: 0.8427\n",
      "Epoch 71/100\n",
      "Epoch 00070: val_loss did not improve\n",
      "19s - loss: 0.5511 - acc: 0.8073 - val_loss: 0.4924 - val_acc: 0.8440\n",
      "Epoch 72/100\n",
      "Epoch 00071: val_loss did not improve\n",
      "19s - loss: 0.5405 - acc: 0.8094 - val_loss: 0.5299 - val_acc: 0.8467\n",
      "Epoch 73/100\n",
      "Epoch 00072: val_loss did not improve\n",
      "19s - loss: 0.5476 - acc: 0.8066 - val_loss: 0.5284 - val_acc: 0.8520\n",
      "Epoch 74/100\n",
      "Epoch 00073: val_loss did not improve\n",
      "19s - loss: 0.5402 - acc: 0.8104 - val_loss: 0.4807 - val_acc: 0.8547\n",
      "Epoch 75/100\n",
      "Epoch 00074: val_loss did not improve\n",
      "19s - loss: 0.5295 - acc: 0.8117 - val_loss: 0.4858 - val_acc: 0.8453\n",
      "Epoch 76/100\n",
      "Epoch 00075: val_loss did not improve\n",
      "19s - loss: 0.5413 - acc: 0.8129 - val_loss: 0.5207 - val_acc: 0.8413\n",
      "Epoch 77/100\n",
      "Epoch 00076: val_loss did not improve\n",
      "19s - loss: 0.5217 - acc: 0.8150 - val_loss: 0.5366 - val_acc: 0.8347\n",
      "Epoch 78/100\n",
      "Epoch 00077: val_loss did not improve\n",
      "19s - loss: 0.5169 - acc: 0.8236 - val_loss: 0.4877 - val_acc: 0.8560\n",
      "Epoch 79/100\n",
      "Epoch 00078: val_loss did not improve\n",
      "20s - loss: 0.5170 - acc: 0.8226 - val_loss: 0.5467 - val_acc: 0.8467\n",
      "Epoch 80/100\n",
      "Epoch 00079: val_loss did not improve\n",
      "20s - loss: 0.5415 - acc: 0.8170 - val_loss: 0.4670 - val_acc: 0.8627\n",
      "Epoch 81/100\n",
      "Epoch 00080: val_loss did not improve\n",
      "20s - loss: 0.4942 - acc: 0.8276 - val_loss: 0.5238 - val_acc: 0.8573\n",
      "Epoch 82/100\n",
      "Epoch 00081: val_loss did not improve\n",
      "19s - loss: 0.5427 - acc: 0.8132 - val_loss: 0.5863 - val_acc: 0.8347\n",
      "Epoch 83/100\n",
      "Epoch 00082: val_loss did not improve\n",
      "19s - loss: 0.4820 - acc: 0.8251 - val_loss: 0.4543 - val_acc: 0.8733\n",
      "Epoch 84/100\n",
      "Epoch 00083: val_loss did not improve\n",
      "19s - loss: 0.4822 - acc: 0.8358 - val_loss: 0.4613 - val_acc: 0.8627\n",
      "Epoch 85/100\n",
      "Epoch 00084: val_loss improved from 0.45158 to 0.44146, saving model to snnweights_augmentation.best.hdf5\n",
      "19s - loss: 0.4978 - acc: 0.8335 - val_loss: 0.4415 - val_acc: 0.8747\n",
      "Epoch 86/100\n",
      "Epoch 00085: val_loss improved from 0.44146 to 0.43226, saving model to snnweights_augmentation.best.hdf5\n",
      "19s - loss: 0.4923 - acc: 0.8317 - val_loss: 0.4323 - val_acc: 0.8560\n",
      "Epoch 87/100\n",
      "Epoch 00086: val_loss did not improve\n",
      "19s - loss: 0.4913 - acc: 0.8358 - val_loss: 0.5266 - val_acc: 0.8427\n",
      "Epoch 88/100\n",
      "Epoch 00087: val_loss did not improve\n",
      "19s - loss: 0.4756 - acc: 0.8386 - val_loss: 0.5260 - val_acc: 0.8520\n",
      "Epoch 89/100\n",
      "Epoch 00088: val_loss did not improve\n",
      "19s - loss: 0.4690 - acc: 0.8356 - val_loss: 0.4849 - val_acc: 0.8427\n",
      "Epoch 90/100\n",
      "Epoch 00089: val_loss did not improve\n",
      "19s - loss: 0.4589 - acc: 0.8378 - val_loss: 0.4465 - val_acc: 0.8667\n",
      "Epoch 91/100\n",
      "Epoch 00090: val_loss improved from 0.43226 to 0.37850, saving model to snnweights_augmentation.best.hdf5\n",
      "19s - loss: 0.4441 - acc: 0.8457 - val_loss: 0.3785 - val_acc: 0.8973\n",
      "Epoch 92/100\n",
      "Epoch 00091: val_loss did not improve\n",
      "19s - loss: 0.4832 - acc: 0.8383 - val_loss: 0.4282 - val_acc: 0.8773\n",
      "Epoch 93/100\n",
      "Epoch 00092: val_loss did not improve\n",
      "19s - loss: 0.4902 - acc: 0.8312 - val_loss: 0.4432 - val_acc: 0.8733\n",
      "Epoch 94/100\n",
      "Epoch 00093: val_loss did not improve\n",
      "19s - loss: 0.4396 - acc: 0.8455 - val_loss: 0.4603 - val_acc: 0.8573\n",
      "Epoch 95/100\n",
      "Epoch 00094: val_loss did not improve\n",
      "19s - loss: 0.4583 - acc: 0.8460 - val_loss: 0.4816 - val_acc: 0.8600\n",
      "Epoch 96/100\n",
      "Epoch 00095: val_loss did not improve\n",
      "20s - loss: 0.4709 - acc: 0.8370 - val_loss: 0.4014 - val_acc: 0.8760\n",
      "Epoch 97/100\n",
      "Epoch 00096: val_loss did not improve\n",
      "19s - loss: 0.4578 - acc: 0.8396 - val_loss: 0.4193 - val_acc: 0.8747\n",
      "Epoch 98/100\n",
      "Epoch 00097: val_loss did not improve\n",
      "19s - loss: 0.4631 - acc: 0.8462 - val_loss: 0.4621 - val_acc: 0.8747\n",
      "Epoch 99/100\n",
      "Epoch 00098: val_loss did not improve\n",
      "19s - loss: 0.4133 - acc: 0.8518 - val_loss: 0.4083 - val_acc: 0.8787\n",
      "Epoch 100/100\n",
      "Epoch 00099: val_loss did not improve\n",
      "19s - loss: 0.4551 - acc: 0.8437 - val_loss: 0.4362 - val_acc: 0.8760\n"
     ]
    },
    {
     "data": {
      "text/plain": [
       "<keras.callbacks.History at 0x12d0b3aa9e8>"
      ]
     },
     "execution_count": 15,
     "metadata": {},
     "output_type": "execute_result"
    }
   ],
   "source": [
    "epochs=100\n",
    "batch_size=30\n",
    "\n",
    "from keras.callbacks import ModelCheckpoint\n",
    "\n",
    "checkpointer=ModelCheckpoint(filepath='snnweights_augmentation.best.hdf5',save_best_only=True,verbose=1)\n",
    "\n",
    "snn.fit_generator(train_gen.flow(train_tensors,train_targets,batch_size=batch_size),\n",
    "                  steps_per_epoch=train_tensors.shape[0]//batch_size,\n",
    "                  validation_data=[valid_tensors,valid_targets],\n",
    "                    epochs=epochs,verbose=2,callbacks=[checkpointer])"
   ]
  },
  {
   "cell_type": "code",
   "execution_count": 37,
   "metadata": {
    "collapsed": true,
    "deletable": true,
    "editable": true
   },
   "outputs": [],
   "source": [
    "snn.load_weights('snnweights_augmentation.best.hdf5')"
   ]
  },
  {
   "cell_type": "code",
   "execution_count": 17,
   "metadata": {
    "collapsed": false,
    "deletable": true,
    "editable": true
   },
   "outputs": [
    {
     "name": "stdout",
     "output_type": "stream",
     "text": [
      "950/950 [==============================] - 1s     \b\b\b\b\b\b\b\b\b\b\b\b\b\b\b\b\b\b\b\b\b\b\b\b\b\b\b\b\b\b\b\b\b\b\b\b\b\b\b\b\b\b\b\b\b\b\b\b\b\b\b\b\b\b\b\b\b\b\b\b\b\b\b\b\b\b\b\b\b\b\b\b\b\b\b\b\b\b\b\b\b\b\b\b\b\b\b\b\b\b\b\b\b\b\b\b\b\b\b\b\b\b\b\b\b\b\b\b\b\b\b\b\b\b\b\b\b\b\b\b\b\b\b\b\b\b\b\b\b\b\b\b\b\b\b\b\b\b\b\b\b\b\b\b\b\b\b\b\b\b\b\b\b\b\b\b\b\b\b\b\b\b\b\b\b\b\b\b\b\b\b\b\b\b\b\b\b\b\b\b\b\b\b\b\b\b\b\b\b\b\b\b\b\b\b\b\b\b\b\b\b\b\b\b\b\b\b\b\b\b\b\b\b\b\b\b\b\b\b\b\b\b\b\b\b\b\b\b\b\b\b\b\b\b\b\b\b\b\b\b\b\b\b\b\b\b\b\b\b\b\b\b\b\b\b\b\b\b\b\b\b\b\b\b\b\b\b\b\b\b\b\b\b\b\b\b\b\b\b\b\b\b\b\b\b\b\b\b\b\b\b\b\b\b\b\b\b\b\b\b\b\b\b\b\b\b\b\b\b\b\b\b\b\b\b\b\b\b\b\b\b\b\b\b\b\b\b\b\b\b\b\b\b\b\b\b\b\b\b\b\b\b\b\b\b\b\b\b\b\b\b\b\b\b\b\b\b\b\b\b\b\b\b\b\b\b\b\b\b\b\b\b\b\b\b\b\b\b\b\b\b\b\b\b\b\b\b\b\b\b\b\b\b\b\b\b\b\b\b\b\b\b\b\b\b\b\b\b\b\b\b\b\b\b\b\b\b\b\b\b\b\b\b\b\b\b\b\b\b\b\b\b\b\b\b\b\b\b\b\b\b\b\b\b\b\b\b\b\b\b\b\b\b\b\b\b\b\b\b\b\b\b\b\b\b\b\b\b\b\b\b\b\b\b\b\b\b\b\b\b\b\b\b\b\b\b\b\b\b\b\b\b\b\b\b\b\b\b\b\b\b\b\b\b\b\b\b\b\b\b\b\b\b\b\b\b\b\b\b\b\b\b\b\b\b\b\b\b\b\b\b\b\b\b\b\b\b\b\b\b\b\b\b\b\b\b\b\b\b\b\b\b\b\b\b\b\b\b\b\b\b\b\b\b\b\b\b\b\b\b\b\b\b\b\b\b\b\b\b\b\b\b\b\b\b\b\b\b\b\b\b\b\b\b\b\b\b\b\b\b\b\b\b\b\b\b\b\b\b\b\b\b\b\b\b\b\b\b\b\b\b\b\b\b\b\b\b\b\b\b\b\b\b\b\b\b\b\b\b\b\b\b\b\b\b\b\b\b\b\b\b\b\b\b\b\b\b\b\b\b\b\b\b\b\b\b\b\b\b\b\b\b\b\b\b\b\b\b\b\b\b\b\b\b\b\b\b\b\b\b\b\b\b\b\b\b\b\b\b\b\b\b\b\b\b\b\b\b\b\b\b\b\b\b\b\b\b\b\b\b\b\b\b\b\b\b\b\b\b\b\b\b\b\b\b\b\b\b\b\b\b\b\b\b\b\b\b\b\b\b\n"
     ]
    }
   ],
   "source": [
    "accuracy_test=snn.evaluate(test_tensors,test_targets)"
   ]
  },
  {
   "cell_type": "code",
   "execution_count": 18,
   "metadata": {
    "collapsed": false,
    "deletable": true,
    "editable": true
   },
   "outputs": [
    {
     "data": {
      "text/plain": [
       "87.263157982575265"
      ]
     },
     "execution_count": 18,
     "metadata": {},
     "output_type": "execute_result"
    }
   ],
   "source": [
    "accuracy_test[1]*100"
   ]
  },
  {
   "cell_type": "code",
   "execution_count": 77,
   "metadata": {
    "collapsed": true,
    "deletable": true,
    "editable": true
   },
   "outputs": [],
   "source": [
    "eval_paths=load_files('test/')\n",
    "eval_filenames=eval_paths['filenames']"
   ]
  },
  {
   "cell_type": "code",
   "execution_count": 78,
   "metadata": {
    "collapsed": true
   },
   "outputs": [],
   "source": [
    "eval_tensors=paths_to_tensor(eval_filenames)\n",
    "eval_tensors=eval_tensors/float(255)"
   ]
  },
  {
   "cell_type": "code",
   "execution_count": 79,
   "metadata": {
    "collapsed": false
   },
   "outputs": [],
   "source": [
    "eval_output=snn.predict(eval_tensors)\n",
    "eval_output=[np.argmax(each) for each in eval_output]\n",
    "eval_output=[target_names[each] for each in eval_output]"
   ]
  },
  {
   "cell_type": "code",
   "execution_count": 80,
   "metadata": {
    "collapsed": false
   },
   "outputs": [],
   "source": [
    "output=[(filename[10:],prediction) for filename,prediction in list(zip(eval_filenames,eval_output))]"
   ]
  },
  {
   "cell_type": "code",
   "execution_count": 81,
   "metadata": {
    "collapsed": true
   },
   "outputs": [],
   "source": [
    "output=[('file','species')] + output"
   ]
  },
  {
   "cell_type": "code",
   "execution_count": 82,
   "metadata": {
    "collapsed": false
   },
   "outputs": [],
   "source": [
    "import csv\n",
    "\n",
    " \n",
    "with open('results1.csv', 'w',newline='')  as myfile:\n",
    "    writer = csv.writer(myfile)\n",
    "#     writer.writerow('file,species')\n",
    "    writer.writerows(output)"
   ]
  },
  {
   "cell_type": "code",
   "execution_count": null,
   "metadata": {
    "collapsed": true
   },
   "outputs": [],
   "source": []
  }
 ],
 "metadata": {
  "anaconda-cloud": {},
  "kernelspec": {
   "display_name": "Python [default]",
   "language": "python",
   "name": "python3"
  },
  "language_info": {
   "codemirror_mode": {
    "name": "ipython",
    "version": 3
   },
   "file_extension": ".py",
   "mimetype": "text/x-python",
   "name": "python",
   "nbconvert_exporter": "python",
   "pygments_lexer": "ipython3",
   "version": "3.5.3"
  }
 },
 "nbformat": 4,
 "nbformat_minor": 2
}
