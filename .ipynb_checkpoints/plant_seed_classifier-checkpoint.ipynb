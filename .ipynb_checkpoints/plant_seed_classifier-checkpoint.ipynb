{
 "cells": [
  {
   "cell_type": "code",
   "execution_count": 1,
   "metadata": {
    "collapsed": false
   },
   "outputs": [
    {
     "name": "stderr",
     "output_type": "stream",
     "text": [
      "Using TensorFlow backend.\n",
      "/Users/abhijitshingote/anaconda/anaconda/lib/python3.6/importlib/_bootstrap.py:205: RuntimeWarning: compiletime version 3.5 of module 'tensorflow.python.framework.fast_tensor_util' does not match runtime version 3.6\n",
      "  return f(*args, **kwds)\n"
     ]
    }
   ],
   "source": [
    "import numpy as np\n",
    "import matplotlib.pyplot as plt\n",
    "from glob import glob\n",
    "from keras.utils import np_utils\n",
    "from sklearn.datasets import load_files\n",
    "from keras.preprocessing import image"
   ]
  },
  {
   "cell_type": "code",
   "execution_count": 2,
   "metadata": {
    "collapsed": true
   },
   "outputs": [],
   "source": [
    "train_files=load_files('train/')\n",
    "train_imgpaths=train_files['filenames']\n",
    "train_targets=np_utils.to_categorical(train_files['target'],len(train_files['target_names']))"
   ]
  },
  {
   "cell_type": "code",
   "execution_count": 3,
   "metadata": {
    "collapsed": false
   },
   "outputs": [],
   "source": [
    "def path_to_tensor(path):\n",
    "    #load image\n",
    "    img=image.load_img(path,target_size=[224,224])\n",
    "    imgarray=image.img_to_array(img)\n",
    "    imgarray=np.expand_dims(imgarray,axis=0)\n",
    "    return imgarray"
   ]
  },
  {
   "cell_type": "code",
   "execution_count": 4,
   "metadata": {
    "collapsed": true
   },
   "outputs": [],
   "source": [
    "def paths_to_tensor(paths):\n",
    "    listoftensors=[path_to_tensor(path) for path in paths]\n",
    "    return np.vstack(listoftensors)"
   ]
  },
  {
   "cell_type": "code",
   "execution_count": 5,
   "metadata": {
    "collapsed": false
   },
   "outputs": [],
   "source": [
    "train_tensors=paths_to_tensor(train_imgpaths)\n"
   ]
  },
  {
   "cell_type": "code",
   "execution_count": 6,
   "metadata": {
    "collapsed": true
   },
   "outputs": [],
   "source": [
    "train_tensors=train_tensors/float(255)"
   ]
  },
  {
   "cell_type": "code",
   "execution_count": 7,
   "metadata": {
    "collapsed": false
   },
   "outputs": [],
   "source": [
    "from keras.layers import Dense,Convolution2D,MaxPooling2D,Dropout,Flatten\n",
    "from keras.models import Sequential"
   ]
  },
  {
   "cell_type": "code",
   "execution_count": 8,
   "metadata": {
    "collapsed": false
   },
   "outputs": [
    {
     "name": "stdout",
     "output_type": "stream",
     "text": [
      "_________________________________________________________________\n",
      "Layer (type)                 Output Shape              Param #   \n",
      "=================================================================\n",
      "conv2d_1 (Conv2D)            (None, 222, 222, 16)      448       \n",
      "_________________________________________________________________\n",
      "max_pooling2d_1 (MaxPooling2 (None, 74, 74, 16)        0         \n",
      "_________________________________________________________________\n",
      "conv2d_2 (Conv2D)            (None, 72, 72, 32)        4640      \n",
      "_________________________________________________________________\n",
      "max_pooling2d_2 (MaxPooling2 (None, 24, 24, 32)        0         \n",
      "_________________________________________________________________\n",
      "conv2d_3 (Conv2D)            (None, 22, 22, 64)        18496     \n",
      "_________________________________________________________________\n",
      "max_pooling2d_3 (MaxPooling2 (None, 7, 7, 64)          0         \n",
      "_________________________________________________________________\n",
      "conv2d_4 (Conv2D)            (None, 5, 5, 128)         73856     \n",
      "_________________________________________________________________\n",
      "max_pooling2d_4 (MaxPooling2 (None, 1, 1, 128)         0         \n",
      "_________________________________________________________________\n",
      "flatten_1 (Flatten)          (None, 128)               0         \n",
      "_________________________________________________________________\n",
      "dense_1 (Dense)              (None, 10)                1290      \n",
      "_________________________________________________________________\n",
      "dropout_1 (Dropout)          (None, 10)                0         \n",
      "_________________________________________________________________\n",
      "dense_2 (Dense)              (None, 12)                132       \n",
      "=================================================================\n",
      "Total params: 98,862\n",
      "Trainable params: 98,862\n",
      "Non-trainable params: 0\n",
      "_________________________________________________________________\n"
     ]
    }
   ],
   "source": [
    "snn=Sequential()\n",
    "snn.add(Convolution2D(kernel_size=[3,3],filters=16,activation='relu',input_shape=[224,224,3]))\n",
    "snn.add(MaxPooling2D(pool_size=[3,3]))\n",
    "snn.add(Convolution2D(kernel_size=[3,3],filters=32,activation='relu'))\n",
    "snn.add(MaxPooling2D(pool_size=[3,3]))\n",
    "snn.add(Convolution2D(kernel_size=[3,3],filters=64,activation='relu'))\n",
    "snn.add(MaxPooling2D(pool_size=[3,3]))\n",
    "snn.add(Convolution2D(kernel_size=[3,3],filters=128,activation='relu'))\n",
    "snn.add(MaxPooling2D(pool_size=[3,3]))\n",
    "snn.add(Flatten())\n",
    "snn.add(Dense(units=10,activation='relu'))\n",
    "snn.add(Dropout(0.2))\n",
    "snn.add(Dense(units=12,activation='softmax'))\n",
    "snn.summary()"
   ]
  },
  {
   "cell_type": "code",
   "execution_count": 9,
   "metadata": {
    "collapsed": false
   },
   "outputs": [],
   "source": [
    "snn.compile(loss='categorical_crossentropy',metrics=['accuracy'],optimizer='rmsprop')"
   ]
  },
  {
   "cell_type": "code",
   "execution_count": 10,
   "metadata": {
    "collapsed": false
   },
   "outputs": [
    {
     "name": "stdout",
     "output_type": "stream",
     "text": [
      "Epoch 1/5\n",
      " - 132s - loss: 2.4633 - acc: 0.1198\n",
      "Epoch 2/5\n",
      " - 140s - loss: 2.4088 - acc: 0.1467\n",
      "Epoch 3/5\n",
      " - 137s - loss: 2.2476 - acc: 0.2322\n",
      "Epoch 4/5\n",
      " - 128s - loss: 2.1129 - acc: 0.2562\n",
      "Epoch 5/5\n",
      " - 129s - loss: 2.0035 - acc: 0.2893\n"
     ]
    },
    {
     "data": {
      "text/plain": [
       "<keras.callbacks.History at 0x187402438>"
      ]
     },
     "execution_count": 10,
     "metadata": {},
     "output_type": "execute_result"
    }
   ],
   "source": [
    "snn.fit(train_tensors,train_targets,batch_size=40,epochs=5,shuffle=True,verbose=2)"
   ]
  },
  {
   "cell_type": "code",
   "execution_count": 11,
   "metadata": {
    "collapsed": false
   },
   "outputs": [
    {
     "data": {
      "text/plain": [
       "4750"
      ]
     },
     "execution_count": 11,
     "metadata": {},
     "output_type": "execute_result"
    }
   ],
   "source": [
    "len(train_tensors)"
   ]
  },
  {
   "cell_type": "code",
   "execution_count": null,
   "metadata": {
    "collapsed": true
   },
   "outputs": [],
   "source": []
  }
 ],
 "metadata": {
  "kernelspec": {
   "display_name": "Python 3",
   "language": "python",
   "name": "python3"
  },
  "language_info": {
   "codemirror_mode": {
    "name": "ipython",
    "version": 3
   },
   "file_extension": ".py",
   "mimetype": "text/x-python",
   "name": "python",
   "nbconvert_exporter": "python",
   "pygments_lexer": "ipython3",
   "version": "3.6.0"
  }
 },
 "nbformat": 4,
 "nbformat_minor": 2
}
