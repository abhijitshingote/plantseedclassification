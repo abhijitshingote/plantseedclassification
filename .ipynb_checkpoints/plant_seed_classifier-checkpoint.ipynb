{
 "cells": [
  {
   "cell_type": "code",
   "execution_count": 1,
   "metadata": {
    "collapsed": false,
    "deletable": true,
    "editable": true
   },
   "outputs": [
    {
     "name": "stderr",
     "output_type": "stream",
     "text": [
      "Using TensorFlow backend.\n"
     ]
    }
   ],
   "source": [
    "import numpy as np\n",
    "import matplotlib.pyplot as plt\n",
    "from glob import glob\n",
    "from keras.utils import np_utils\n",
    "from sklearn.datasets import load_files\n",
    "from keras.preprocessing import image"
   ]
  },
  {
   "cell_type": "code",
   "execution_count": 2,
   "metadata": {
    "collapsed": true,
    "deletable": true,
    "editable": true
   },
   "outputs": [],
   "source": [
    "train_files=load_files('train/')\n",
    "train_imgpaths=train_files['filenames']\n",
    "train_targets=np_utils.to_categorical(train_files['target'],len(train_files['target_names']))"
   ]
  },
  {
   "cell_type": "code",
   "execution_count": 3,
   "metadata": {
    "collapsed": false,
    "deletable": true,
    "editable": true
   },
   "outputs": [],
   "source": [
    "def path_to_tensor(path):\n",
    "    #load image\n",
    "    img=image.load_img(path,target_size=[224,224])\n",
    "    imgarray=image.img_to_array(img)\n",
    "    imgarray=np.expand_dims(imgarray,axis=0)\n",
    "    return imgarray"
   ]
  },
  {
   "cell_type": "code",
   "execution_count": 4,
   "metadata": {
    "collapsed": true,
    "deletable": true,
    "editable": true
   },
   "outputs": [],
   "source": [
    "def paths_to_tensor(paths):\n",
    "    listoftensors=[path_to_tensor(path) for path in paths]\n",
    "    return np.vstack(listoftensors)"
   ]
  },
  {
   "cell_type": "code",
   "execution_count": 5,
   "metadata": {
    "collapsed": false,
    "deletable": true,
    "editable": true
   },
   "outputs": [],
   "source": [
    "train_tensors=paths_to_tensor(train_imgpaths)\n"
   ]
  },
  {
   "cell_type": "code",
   "execution_count": 6,
   "metadata": {
    "collapsed": true,
    "deletable": true,
    "editable": true
   },
   "outputs": [],
   "source": [
    "train_tensors=train_tensors/float(255)\n",
    "train_tensors,valid_tensors,test_tensors=train_tensors[:-1700],train_tensors[-1700:-950],train_tensors[-950:]\n",
    "train_targets,valid_targets,test_targets=train_targets[:-1700],train_targets[-1700:-950],train_targets[-950:]"
   ]
  },
  {
   "cell_type": "code",
   "execution_count": 7,
   "metadata": {
    "collapsed": false,
    "deletable": true,
    "editable": true
   },
   "outputs": [],
   "source": [
    "from keras.layers import Dense,Convolution2D,MaxPooling2D,Dropout,Flatten\n",
    "from keras.models import Sequential"
   ]
  },
  {
   "cell_type": "code",
   "execution_count": 8,
   "metadata": {
    "collapsed": false,
    "deletable": true,
    "editable": true
   },
   "outputs": [
    {
     "name": "stdout",
     "output_type": "stream",
     "text": [
      "_________________________________________________________________\n",
      "Layer (type)                 Output Shape              Param #   \n",
      "=================================================================\n",
      "conv2d_1 (Conv2D)            (None, 222, 222, 16)      448       \n",
      "_________________________________________________________________\n",
      "max_pooling2d_1 (MaxPooling2 (None, 74, 74, 16)        0         \n",
      "_________________________________________________________________\n",
      "conv2d_2 (Conv2D)            (None, 72, 72, 32)        4640      \n",
      "_________________________________________________________________\n",
      "max_pooling2d_2 (MaxPooling2 (None, 24, 24, 32)        0         \n",
      "_________________________________________________________________\n",
      "conv2d_3 (Conv2D)            (None, 22, 22, 64)        18496     \n",
      "_________________________________________________________________\n",
      "max_pooling2d_3 (MaxPooling2 (None, 7, 7, 64)          0         \n",
      "_________________________________________________________________\n",
      "conv2d_4 (Conv2D)            (None, 5, 5, 128)         73856     \n",
      "_________________________________________________________________\n",
      "max_pooling2d_4 (MaxPooling2 (None, 1, 1, 128)         0         \n",
      "_________________________________________________________________\n",
      "flatten_1 (Flatten)          (None, 128)               0         \n",
      "_________________________________________________________________\n",
      "dense_1 (Dense)              (None, 10)                1290      \n",
      "_________________________________________________________________\n",
      "dropout_1 (Dropout)          (None, 10)                0         \n",
      "_________________________________________________________________\n",
      "dense_2 (Dense)              (None, 12)                132       \n",
      "=================================================================\n",
      "Total params: 98,862.0\n",
      "Trainable params: 98,862.0\n",
      "Non-trainable params: 0.0\n",
      "_________________________________________________________________\n"
     ]
    }
   ],
   "source": [
    "snn=Sequential()\n",
    "snn.add(Convolution2D(kernel_size=[3,3],filters=16,activation='relu',input_shape=[224,224,3]))\n",
    "snn.add(MaxPooling2D(pool_size=[3,3]))\n",
    "snn.add(Convolution2D(kernel_size=[3,3],filters=32,activation='relu'))\n",
    "snn.add(MaxPooling2D(pool_size=[3,3]))\n",
    "snn.add(Convolution2D(kernel_size=[3,3],filters=64,activation='relu'))\n",
    "snn.add(MaxPooling2D(pool_size=[3,3]))\n",
    "snn.add(Convolution2D(kernel_size=[3,3],filters=128,activation='relu'))\n",
    "snn.add(MaxPooling2D(pool_size=[3,3]))\n",
    "snn.add(Flatten())\n",
    "snn.add(Dense(units=10,activation='relu'))\n",
    "snn.add(Dropout(0.2))\n",
    "snn.add(Dense(units=12,activation='softmax'))\n",
    "snn.summary()"
   ]
  },
  {
   "cell_type": "code",
   "execution_count": 9,
   "metadata": {
    "collapsed": false,
    "deletable": true,
    "editable": true
   },
   "outputs": [],
   "source": [
    "snn.compile(loss='categorical_crossentropy',metrics=['accuracy'],optimizer='rmsprop')"
   ]
  },
  {
   "cell_type": "code",
   "execution_count": 10,
   "metadata": {
    "collapsed": false,
    "deletable": true,
    "editable": true
   },
   "outputs": [
    {
     "name": "stdout",
     "output_type": "stream",
     "text": [
      "Train on 3050 samples, validate on 750 samples\n",
      "Epoch 1/100\n",
      "Epoch 00000: val_loss improved from inf to 2.09112, saving model to snnweights.best.hdf5\n",
      "11s - loss: 2.3048 - acc: 0.2256 - val_loss: 2.0911 - val_acc: 0.2813\n",
      "Epoch 2/100\n",
      "Epoch 00001: val_loss improved from 2.09112 to 1.93683, saving model to snnweights.best.hdf5\n",
      "8s - loss: 2.0856 - acc: 0.2830 - val_loss: 1.9368 - val_acc: 0.3347\n",
      "Epoch 3/100\n",
      "Epoch 00002: val_loss improved from 1.93683 to 1.92864, saving model to snnweights.best.hdf5\n",
      "8s - loss: 1.9509 - acc: 0.3213 - val_loss: 1.9286 - val_acc: 0.3560\n",
      "Epoch 4/100\n",
      "Epoch 00003: val_loss improved from 1.92864 to 1.72171, saving model to snnweights.best.hdf5\n",
      "8s - loss: 1.8447 - acc: 0.3597 - val_loss: 1.7217 - val_acc: 0.4067\n",
      "Epoch 5/100\n",
      "Epoch 00004: val_loss improved from 1.72171 to 1.69669, saving model to snnweights.best.hdf5\n",
      "8s - loss: 1.7472 - acc: 0.4056 - val_loss: 1.6967 - val_acc: 0.4200\n",
      "Epoch 6/100\n",
      "Epoch 00005: val_loss improved from 1.69669 to 1.58646, saving model to snnweights.best.hdf5\n",
      "8s - loss: 1.6632 - acc: 0.4308 - val_loss: 1.5865 - val_acc: 0.4307\n",
      "Epoch 7/100\n",
      "Epoch 00006: val_loss improved from 1.58646 to 1.41754, saving model to snnweights.best.hdf5\n",
      "8s - loss: 1.5567 - acc: 0.4692 - val_loss: 1.4175 - val_acc: 0.5027\n",
      "Epoch 8/100\n",
      "Epoch 00007: val_loss did not improve\n",
      "8s - loss: 1.4905 - acc: 0.4866 - val_loss: 1.4182 - val_acc: 0.5173\n",
      "Epoch 9/100\n",
      "Epoch 00008: val_loss improved from 1.41754 to 1.27950, saving model to snnweights.best.hdf5\n",
      "8s - loss: 1.4019 - acc: 0.5095 - val_loss: 1.2795 - val_acc: 0.5640\n",
      "Epoch 10/100\n",
      "Epoch 00009: val_loss improved from 1.27950 to 1.27215, saving model to snnweights.best.hdf5\n",
      "8s - loss: 1.3514 - acc: 0.5370 - val_loss: 1.2722 - val_acc: 0.5613\n",
      "Epoch 11/100\n",
      "Epoch 00010: val_loss improved from 1.27215 to 1.24277, saving model to snnweights.best.hdf5\n",
      "8s - loss: 1.2778 - acc: 0.5472 - val_loss: 1.2428 - val_acc: 0.5693\n",
      "Epoch 12/100\n",
      "Epoch 00011: val_loss did not improve\n",
      "8s - loss: 1.2115 - acc: 0.5734 - val_loss: 1.2638 - val_acc: 0.5840\n",
      "Epoch 13/100\n",
      "Epoch 00012: val_loss improved from 1.24277 to 1.12880, saving model to snnweights.best.hdf5\n",
      "8s - loss: 1.1780 - acc: 0.5826 - val_loss: 1.1288 - val_acc: 0.6080\n",
      "Epoch 14/100\n",
      "Epoch 00013: val_loss improved from 1.12880 to 1.01778, saving model to snnweights.best.hdf5\n",
      "8s - loss: 1.1375 - acc: 0.5934 - val_loss: 1.0178 - val_acc: 0.6680\n",
      "Epoch 15/100\n",
      "Epoch 00014: val_loss did not improve\n",
      "8s - loss: 1.0992 - acc: 0.6046 - val_loss: 1.1069 - val_acc: 0.6120\n",
      "Epoch 16/100\n",
      "Epoch 00015: val_loss improved from 1.01778 to 0.96278, saving model to snnweights.best.hdf5\n",
      "7s - loss: 1.0689 - acc: 0.6069 - val_loss: 0.9628 - val_acc: 0.6693\n",
      "Epoch 17/100\n",
      "Epoch 00016: val_loss did not improve\n",
      "7s - loss: 0.9809 - acc: 0.6456 - val_loss: 1.0590 - val_acc: 0.6680\n",
      "Epoch 18/100\n",
      "Epoch 00017: val_loss did not improve\n",
      "7s - loss: 0.9780 - acc: 0.6485 - val_loss: 0.9736 - val_acc: 0.6987\n",
      "Epoch 19/100\n",
      "Epoch 00018: val_loss improved from 0.96278 to 0.94733, saving model to snnweights.best.hdf5\n",
      "8s - loss: 0.9202 - acc: 0.6639 - val_loss: 0.9473 - val_acc: 0.7053\n",
      "Epoch 20/100\n",
      "Epoch 00019: val_loss improved from 0.94733 to 0.92876, saving model to snnweights.best.hdf5\n",
      "8s - loss: 0.8767 - acc: 0.6925 - val_loss: 0.9288 - val_acc: 0.7080\n",
      "Epoch 21/100\n",
      "Epoch 00020: val_loss did not improve\n",
      "8s - loss: 0.8558 - acc: 0.6803 - val_loss: 0.9348 - val_acc: 0.7187\n",
      "Epoch 22/100\n",
      "Epoch 00021: val_loss did not improve\n",
      "8s - loss: 0.8330 - acc: 0.7010 - val_loss: 0.9788 - val_acc: 0.6933\n",
      "Epoch 23/100\n",
      "Epoch 00022: val_loss did not improve\n",
      "8s - loss: 0.7998 - acc: 0.6990 - val_loss: 1.2425 - val_acc: 0.6227\n",
      "Epoch 24/100\n",
      "Epoch 00023: val_loss improved from 0.92876 to 0.84542, saving model to snnweights.best.hdf5\n",
      "8s - loss: 0.7785 - acc: 0.7105 - val_loss: 0.8454 - val_acc: 0.7640\n",
      "Epoch 25/100\n",
      "Epoch 00024: val_loss did not improve\n",
      "8s - loss: 0.7386 - acc: 0.7361 - val_loss: 0.9494 - val_acc: 0.7160\n",
      "Epoch 26/100\n",
      "Epoch 00025: val_loss did not improve\n",
      "8s - loss: 0.7071 - acc: 0.7482 - val_loss: 0.8607 - val_acc: 0.7573\n",
      "Epoch 27/100\n",
      "Epoch 00026: val_loss did not improve\n",
      "8s - loss: 0.6856 - acc: 0.7495 - val_loss: 0.8790 - val_acc: 0.7413\n",
      "Epoch 28/100\n",
      "Epoch 00027: val_loss did not improve\n",
      "8s - loss: 0.6953 - acc: 0.7400 - val_loss: 1.0650 - val_acc: 0.6973\n",
      "Epoch 29/100\n",
      "Epoch 00028: val_loss did not improve\n",
      "8s - loss: 0.6528 - acc: 0.7593 - val_loss: 0.8617 - val_acc: 0.7533\n",
      "Epoch 30/100\n",
      "Epoch 00029: val_loss did not improve\n",
      "8s - loss: 0.6526 - acc: 0.7551 - val_loss: 0.9047 - val_acc: 0.7413\n",
      "Epoch 31/100\n",
      "Epoch 00030: val_loss improved from 0.84542 to 0.78677, saving model to snnweights.best.hdf5\n",
      "8s - loss: 0.6311 - acc: 0.7675 - val_loss: 0.7868 - val_acc: 0.7720\n",
      "Epoch 32/100\n",
      "Epoch 00031: val_loss did not improve\n",
      "7s - loss: 0.5918 - acc: 0.7800 - val_loss: 0.7969 - val_acc: 0.7787\n",
      "Epoch 33/100\n",
      "Epoch 00032: val_loss did not improve\n",
      "8s - loss: 0.5864 - acc: 0.7859 - val_loss: 0.9679 - val_acc: 0.7533\n",
      "Epoch 34/100\n",
      "Epoch 00033: val_loss did not improve\n",
      "7s - loss: 0.5577 - acc: 0.7902 - val_loss: 0.8341 - val_acc: 0.7693\n",
      "Epoch 35/100\n",
      "Epoch 00034: val_loss did not improve\n",
      "7s - loss: 0.5626 - acc: 0.7875 - val_loss: 0.9017 - val_acc: 0.7453\n",
      "Epoch 36/100\n",
      "Epoch 00035: val_loss did not improve\n",
      "7s - loss: 0.5522 - acc: 0.8013 - val_loss: 1.0543 - val_acc: 0.7173\n",
      "Epoch 37/100\n",
      "Epoch 00036: val_loss did not improve\n",
      "7s - loss: 0.5289 - acc: 0.8052 - val_loss: 0.9179 - val_acc: 0.7693\n",
      "Epoch 38/100\n",
      "Epoch 00037: val_loss did not improve\n",
      "7s - loss: 0.5205 - acc: 0.8036 - val_loss: 0.8606 - val_acc: 0.7707\n",
      "Epoch 39/100\n",
      "Epoch 00038: val_loss did not improve\n",
      "7s - loss: 0.5111 - acc: 0.8115 - val_loss: 0.9715 - val_acc: 0.7587\n",
      "Epoch 40/100\n",
      "Epoch 00039: val_loss did not improve\n",
      "7s - loss: 0.5050 - acc: 0.8138 - val_loss: 0.8080 - val_acc: 0.7720\n",
      "Epoch 41/100\n",
      "Epoch 00040: val_loss did not improve\n",
      "8s - loss: 0.4671 - acc: 0.8144 - val_loss: 0.9531 - val_acc: 0.7653\n",
      "Epoch 42/100\n",
      "Epoch 00041: val_loss did not improve\n",
      "8s - loss: 0.5039 - acc: 0.8170 - val_loss: 0.7920 - val_acc: 0.8027\n",
      "Epoch 43/100\n",
      "Epoch 00042: val_loss did not improve\n",
      "7s - loss: 0.4741 - acc: 0.8282 - val_loss: 0.9533 - val_acc: 0.7680\n",
      "Epoch 44/100\n",
      "Epoch 00043: val_loss did not improve\n",
      "7s - loss: 0.4539 - acc: 0.8275 - val_loss: 0.9672 - val_acc: 0.7760\n",
      "Epoch 45/100\n",
      "Epoch 00044: val_loss did not improve\n",
      "7s - loss: 0.4537 - acc: 0.8249 - val_loss: 0.8597 - val_acc: 0.7893\n",
      "Epoch 46/100\n",
      "Epoch 00045: val_loss did not improve\n",
      "7s - loss: 0.4631 - acc: 0.8354 - val_loss: 0.9564 - val_acc: 0.7733\n",
      "Epoch 47/100\n",
      "Epoch 00046: val_loss did not improve\n",
      "8s - loss: 0.4359 - acc: 0.8334 - val_loss: 0.9042 - val_acc: 0.7800\n",
      "Epoch 48/100\n",
      "Epoch 00047: val_loss did not improve\n",
      "8s - loss: 0.4266 - acc: 0.8410 - val_loss: 1.0052 - val_acc: 0.7893\n",
      "Epoch 49/100\n",
      "Epoch 00048: val_loss did not improve\n",
      "8s - loss: 0.4092 - acc: 0.8459 - val_loss: 0.9997 - val_acc: 0.7720\n",
      "Epoch 50/100\n",
      "Epoch 00049: val_loss did not improve\n",
      "8s - loss: 0.4108 - acc: 0.8456 - val_loss: 0.9678 - val_acc: 0.7933\n",
      "Epoch 51/100\n",
      "Epoch 00050: val_loss did not improve\n",
      "8s - loss: 0.4141 - acc: 0.8439 - val_loss: 0.9745 - val_acc: 0.7600\n",
      "Epoch 52/100\n",
      "Epoch 00051: val_loss did not improve\n",
      "8s - loss: 0.3870 - acc: 0.8567 - val_loss: 1.0977 - val_acc: 0.7533\n",
      "Epoch 53/100\n",
      "Epoch 00052: val_loss did not improve\n",
      "7s - loss: 0.3959 - acc: 0.8466 - val_loss: 1.2762 - val_acc: 0.6867\n",
      "Epoch 54/100\n",
      "Epoch 00053: val_loss did not improve\n",
      "7s - loss: 0.3829 - acc: 0.8544 - val_loss: 0.9041 - val_acc: 0.7773\n",
      "Epoch 55/100\n",
      "Epoch 00054: val_loss did not improve\n",
      "8s - loss: 0.3837 - acc: 0.8577 - val_loss: 0.8797 - val_acc: 0.8067\n",
      "Epoch 56/100\n",
      "Epoch 00055: val_loss did not improve\n",
      "7s - loss: 0.4007 - acc: 0.8538 - val_loss: 0.9437 - val_acc: 0.7853\n",
      "Epoch 57/100\n",
      "Epoch 00056: val_loss did not improve\n",
      "7s - loss: 0.3822 - acc: 0.8590 - val_loss: 1.0687 - val_acc: 0.7640\n",
      "Epoch 58/100\n",
      "Epoch 00057: val_loss did not improve\n",
      "7s - loss: 0.3536 - acc: 0.8626 - val_loss: 0.9044 - val_acc: 0.7933\n",
      "Epoch 59/100\n",
      "Epoch 00058: val_loss did not improve\n",
      "7s - loss: 0.3822 - acc: 0.8616 - val_loss: 0.8526 - val_acc: 0.7813\n",
      "Epoch 60/100\n",
      "Epoch 00059: val_loss did not improve\n",
      "7s - loss: 0.3573 - acc: 0.8689 - val_loss: 1.1869 - val_acc: 0.7653\n",
      "Epoch 61/100\n",
      "Epoch 00060: val_loss did not improve\n",
      "7s - loss: 0.3681 - acc: 0.8597 - val_loss: 0.9677 - val_acc: 0.7613\n",
      "Epoch 62/100\n",
      "Epoch 00061: val_loss did not improve\n",
      "7s - loss: 0.3390 - acc: 0.8728 - val_loss: 0.9656 - val_acc: 0.7840\n",
      "Epoch 63/100\n",
      "Epoch 00062: val_loss did not improve\n",
      "8s - loss: 0.3175 - acc: 0.8813 - val_loss: 1.1575 - val_acc: 0.7733\n",
      "Epoch 64/100\n",
      "Epoch 00063: val_loss did not improve\n",
      "7s - loss: 0.3418 - acc: 0.8682 - val_loss: 1.5175 - val_acc: 0.7013\n",
      "Epoch 65/100\n",
      "Epoch 00064: val_loss did not improve\n",
      "7s - loss: 0.3289 - acc: 0.8793 - val_loss: 0.9588 - val_acc: 0.7893\n",
      "Epoch 66/100\n",
      "Epoch 00065: val_loss did not improve\n",
      "7s - loss: 0.3343 - acc: 0.8715 - val_loss: 0.8784 - val_acc: 0.7800\n",
      "Epoch 67/100\n",
      "Epoch 00066: val_loss did not improve\n",
      "7s - loss: 0.3428 - acc: 0.8695 - val_loss: 0.8832 - val_acc: 0.7920\n",
      "Epoch 68/100\n",
      "Epoch 00067: val_loss did not improve\n",
      "7s - loss: 0.3495 - acc: 0.8728 - val_loss: 0.9815 - val_acc: 0.7813\n",
      "Epoch 69/100\n",
      "Epoch 00068: val_loss did not improve\n",
      "7s - loss: 0.3190 - acc: 0.8784 - val_loss: 1.0812 - val_acc: 0.7600\n",
      "Epoch 70/100\n",
      "Epoch 00069: val_loss did not improve\n",
      "7s - loss: 0.3159 - acc: 0.8797 - val_loss: 1.0094 - val_acc: 0.7973\n",
      "Epoch 71/100\n",
      "Epoch 00070: val_loss did not improve\n",
      "7s - loss: 0.3092 - acc: 0.8813 - val_loss: 1.2017 - val_acc: 0.7760\n",
      "Epoch 72/100\n",
      "Epoch 00071: val_loss did not improve\n",
      "7s - loss: 0.3112 - acc: 0.8849 - val_loss: 1.2595 - val_acc: 0.7493\n",
      "Epoch 73/100\n",
      "Epoch 00072: val_loss did not improve\n",
      "7s - loss: 0.3015 - acc: 0.8875 - val_loss: 1.0560 - val_acc: 0.7800\n",
      "Epoch 74/100\n",
      "Epoch 00073: val_loss did not improve\n",
      "7s - loss: 0.3166 - acc: 0.8839 - val_loss: 1.3232 - val_acc: 0.7600\n",
      "Epoch 75/100\n",
      "Epoch 00074: val_loss did not improve\n",
      "7s - loss: 0.3126 - acc: 0.8820 - val_loss: 1.1550 - val_acc: 0.7773\n",
      "Epoch 76/100\n",
      "Epoch 00075: val_loss did not improve\n",
      "7s - loss: 0.3105 - acc: 0.8928 - val_loss: 1.1173 - val_acc: 0.7800\n",
      "Epoch 77/100\n",
      "Epoch 00076: val_loss did not improve\n",
      "7s - loss: 0.3006 - acc: 0.8925 - val_loss: 1.0524 - val_acc: 0.7693\n",
      "Epoch 78/100\n",
      "Epoch 00077: val_loss did not improve\n",
      "7s - loss: 0.3069 - acc: 0.8859 - val_loss: 0.9848 - val_acc: 0.7933\n",
      "Epoch 79/100\n",
      "Epoch 00078: val_loss did not improve\n",
      "7s - loss: 0.3071 - acc: 0.8882 - val_loss: 0.9673 - val_acc: 0.8027\n",
      "Epoch 80/100\n",
      "Epoch 00079: val_loss did not improve\n",
      "7s - loss: 0.2856 - acc: 0.8866 - val_loss: 1.0832 - val_acc: 0.7920\n",
      "Epoch 81/100\n",
      "Epoch 00080: val_loss did not improve\n",
      "7s - loss: 0.3230 - acc: 0.8875 - val_loss: 1.0211 - val_acc: 0.7893\n",
      "Epoch 82/100\n",
      "Epoch 00081: val_loss did not improve\n",
      "7s - loss: 0.2604 - acc: 0.9023 - val_loss: 0.9851 - val_acc: 0.7853\n",
      "Epoch 83/100\n",
      "Epoch 00082: val_loss did not improve\n",
      "7s - loss: 0.2852 - acc: 0.8974 - val_loss: 1.5446 - val_acc: 0.7013\n",
      "Epoch 84/100\n",
      "Epoch 00083: val_loss did not improve\n",
      "7s - loss: 0.3014 - acc: 0.8905 - val_loss: 1.1169 - val_acc: 0.7853\n",
      "Epoch 85/100\n",
      "Epoch 00084: val_loss did not improve\n",
      "7s - loss: 0.2908 - acc: 0.8889 - val_loss: 1.2865 - val_acc: 0.7840\n",
      "Epoch 86/100\n",
      "Epoch 00085: val_loss did not improve\n",
      "7s - loss: 0.2857 - acc: 0.8934 - val_loss: 1.0451 - val_acc: 0.7907\n",
      "Epoch 87/100\n",
      "Epoch 00086: val_loss did not improve\n",
      "7s - loss: 0.3042 - acc: 0.8836 - val_loss: 1.2189 - val_acc: 0.7573\n",
      "Epoch 88/100\n",
      "Epoch 00087: val_loss did not improve\n",
      "7s - loss: 0.2725 - acc: 0.8961 - val_loss: 1.1196 - val_acc: 0.8040\n",
      "Epoch 89/100\n",
      "Epoch 00088: val_loss did not improve\n",
      "7s - loss: 0.2812 - acc: 0.9007 - val_loss: 1.0650 - val_acc: 0.8000\n",
      "Epoch 90/100\n",
      "Epoch 00089: val_loss did not improve\n",
      "7s - loss: 0.2567 - acc: 0.8990 - val_loss: 1.1526 - val_acc: 0.7880\n",
      "Epoch 91/100\n",
      "Epoch 00090: val_loss did not improve\n",
      "7s - loss: 0.2682 - acc: 0.9036 - val_loss: 1.3906 - val_acc: 0.7960\n",
      "Epoch 92/100\n",
      "Epoch 00091: val_loss did not improve\n",
      "7s - loss: 0.2678 - acc: 0.8944 - val_loss: 1.0168 - val_acc: 0.7853\n",
      "Epoch 93/100\n",
      "Epoch 00092: val_loss did not improve\n",
      "7s - loss: 0.3027 - acc: 0.8967 - val_loss: 1.0595 - val_acc: 0.7960\n",
      "Epoch 94/100\n",
      "Epoch 00093: val_loss did not improve\n",
      "7s - loss: 0.2730 - acc: 0.9016 - val_loss: 1.0541 - val_acc: 0.7933\n",
      "Epoch 95/100\n",
      "Epoch 00094: val_loss did not improve\n",
      "7s - loss: 0.2875 - acc: 0.8964 - val_loss: 1.1358 - val_acc: 0.7947\n",
      "Epoch 96/100\n",
      "Epoch 00095: val_loss did not improve\n",
      "7s - loss: 0.2547 - acc: 0.9013 - val_loss: 1.1678 - val_acc: 0.7827\n",
      "Epoch 97/100\n",
      "Epoch 00096: val_loss did not improve\n",
      "7s - loss: 0.2689 - acc: 0.9043 - val_loss: 1.2996 - val_acc: 0.7813\n",
      "Epoch 98/100\n",
      "Epoch 00097: val_loss did not improve\n",
      "7s - loss: 0.2652 - acc: 0.9023 - val_loss: 1.2221 - val_acc: 0.7787\n",
      "Epoch 99/100\n",
      "Epoch 00098: val_loss did not improve\n",
      "7s - loss: 0.2648 - acc: 0.9072 - val_loss: 1.4729 - val_acc: 0.7400\n",
      "Epoch 100/100\n",
      "Epoch 00099: val_loss did not improve\n",
      "8s - loss: 0.2656 - acc: 0.9023 - val_loss: 1.2167 - val_acc: 0.7920\n"
     ]
    },
    {
     "data": {
      "text/plain": [
       "<keras.callbacks.History at 0x228a7074f28>"
      ]
     },
     "execution_count": 10,
     "metadata": {},
     "output_type": "execute_result"
    }
   ],
   "source": [
    "epochs=100\n",
    "batch_size=30\n",
    "\n",
    "from keras.callbacks import ModelCheckpoint\n",
    "\n",
    "checkpointer=ModelCheckpoint(filepath='snnweights.best.hdf5',save_best_only=True,verbose=1)\n",
    "\n",
    "snn.fit(train_tensors,train_targets,validation_data=[valid_tensors,valid_targets],batch_size=batch_size,\n",
    "        epochs=epochs,shuffle=True,verbose=2,callbacks=[checkpointer])"
   ]
  },
  {
   "cell_type": "code",
   "execution_count": 13,
   "metadata": {
    "collapsed": true
   },
   "outputs": [],
   "source": [
    "snn.load_weights('snnweights.best.hdf5')"
   ]
  },
  {
   "cell_type": "code",
   "execution_count": 14,
   "metadata": {
    "collapsed": false,
    "deletable": true,
    "editable": true
   },
   "outputs": [
    {
     "name": "stdout",
     "output_type": "stream",
     "text": [
      "928/950 [============================>.] - ETA: 0s\b\b\b\b\b\b\b\b\b\b\b\b\b\b\b\b\b\b\b\b\b\b\b\b\b\b\b\b\b\b\b\b\b\b\b\b\b\b\b\b\b\b\b\b\b\b\b\b\b\b\b\b\b\b\b\b\b\b\b\b\b\b\b\b\b\b\b\b\b\b\b\b\b\b\b\b\b\b\b\b\b\b\b\b\b\b\b\b\b\b\b\b\b\b\b\b\b\b\b\b\b\b\b\b\b\b\b\b\b\b\b\b\b\b\b\b\b\b\b\b\b\b\b\b\b\b\b\b\b\b\b\b\b\b\b\b\b\b\b\b\b\b\b\b\b\b\b\b\b\b\b\b\b\b\b\b\b\b\b\b\b\b\b\b\b\b\b\b\b\b\b\b\b\b\b\b\b\b\b\b\b\b\b\b\b\b\b\b\b\b\b\b\b\b\b\b\b\b\b\b\b\b\b\b\b\b\b\b\b\b\b\b\b\b\b\b\b\b\b\b\b\b\b\b\b\b\b\b\b\b\b\b\b\b\b\b\b\b\b\b\b\b\b\b\b\b\b\b\b\b\b\b\b\b\b\b\b\b\b\b\b\b\b\b\b\b\b\b\b\b\b\b\b\b\b\b\b\b\b\b\b\b\b\b\b\b\b\b\b\b\b\b\b\b\b\b\b\b\b\b\b\b\b\b\b\b\b\b\b\b\b\b\b\b\b\b\b\b\b\b\b\b\b\b\b\b\b\b\b\b\b\b\b\b\b\b\b\b\b\b\b\b\b\b\b\b\b\b\b\b\b\b\b\b\b\b\b\b\b\b\b\b\b\b\b\b\b\b\b\b\b\b\b\b\b\b\b\b\b\b\b\b\b\b\b\b\b\b\b\b\b\b\b\b\b\b\b\b\b\b\b\b\b\b\b\b\b\b\b\b\b\b\b\b\b\b\b\b\b\b\b\b\b\b\b\b\b\b\b\b\b\b\b\b\b\b\b\b\b\b\b\b\b\b\b\b\b\b\b\b\b\b\b\b\b\b\b\b\b\b\b\b\b\b\b\b\b\b\b\b\b\b\b\b\b\b\b\b\b\b\b\b\b\b\b\b\b\b\b\b\b\b\b\b\b\b\b\b\b\b\b\b\b\b\b\b\b\b\b\b\b\b\b\b\b\b\b\b\b\b\b\b\b\b\b\b\b\b\b\b\b\b\b\b\b\b\b\b\b\b\b\b\b\b\b\b\b\b\b\b\b\b\b\b\b\b\b\b\b\b\b\b\b\b\b\b\b\b\b\b\b\b\b\b\b\b\b\b\b\b\b\b\b\b\b\b\b\b\b\b\b\b\b\b\b\b\b\b\b\b\b\b\b\b\b\b\b\b\b\b\b\b\b\b\b\b\b\b\b\b\b\b\b\b\b\b\b\b\b\b\b\b\b\b\b\b\b\b\b\b\b\b\b\b\b\b\b\b\b\b\b\b\b\b\b\b\b\b\b\b\b\b\b\b\b\b\b\b\b\b\b\b\b\b\b\b\b\b\b\b\b\b\b\b\b\b\b\b\b\b\b\b\b\b\b\b\b\b\b\b"
     ]
    }
   ],
   "source": [
    "accuracy_test=snn.evaluate(test_tensors,test_targets)"
   ]
  },
  {
   "cell_type": "code",
   "execution_count": 15,
   "metadata": {
    "collapsed": false,
    "deletable": true,
    "editable": true
   },
   "outputs": [
    {
     "data": {
      "text/plain": [
       "75.578947443711129"
      ]
     },
     "execution_count": 15,
     "metadata": {},
     "output_type": "execute_result"
    }
   ],
   "source": [
    "accuracy_test[1]*100"
   ]
  },
  {
   "cell_type": "code",
   "execution_count": null,
   "metadata": {
    "collapsed": true
   },
   "outputs": [],
   "source": []
  }
 ],
 "metadata": {
  "anaconda-cloud": {},
  "kernelspec": {
   "display_name": "Python [default]",
   "language": "python",
   "name": "python3"
  },
  "language_info": {
   "codemirror_mode": {
    "name": "ipython",
    "version": 3
   },
   "file_extension": ".py",
   "mimetype": "text/x-python",
   "name": "python",
   "nbconvert_exporter": "python",
   "pygments_lexer": "ipython3",
   "version": "3.5.3"
  }
 },
 "nbformat": 4,
 "nbformat_minor": 2
}
